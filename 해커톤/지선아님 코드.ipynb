{
 "cells": [
  {
   "cell_type": "code",
   "execution_count": 1,
   "metadata": {},
   "outputs": [],
   "source": [
    "import requests\n",
    "from bs4 import BeautifulSoup\n",
    "import time\n",
    "from selenium.webdriver import Chrome\n",
    "import re\n",
    "from selenium.webdriver.chrome.options import Options\n",
    "from selenium.webdriver.common.keys import Keys\n",
    "import datetime as dt\n",
    "\n",
    "delay = 3\n",
    "browser = Chrome(\"./chromedriver\")\n",
    "browser.implicitly_wait(delay)\n",
    "browser.get(\"https://www.youtube.com/channel/UCSn90DAxCF3yRs6mFK0-8TA/videos\") # 박막례할머니 동영상 페이지로 들어감\n",
    "browser.maximize_window()\n",
    "body = browser.find_element_by_tag_name('body') # body태그 가져오기\n",
    "\n",
    "num_of_pagedowns = 22\n",
    "while num_of_pagedowns:\n",
    "    body.send_keys(Keys.PAGE_DOWN)\n",
    "    time.sleep(2)\n",
    "    num_of_pagedowns -= 1 #video페이지의 스크롤을 충분히 밑으로 내려놓고"
   ]
  },
  {
   "cell_type": "code",
   "execution_count": 2,
   "metadata": {},
   "outputs": [
    {
     "name": "stdout",
     "output_type": "stream",
     "text": [
      "video_list2의 길이: 109\n"
     ]
    }
   ],
   "source": [
    "html0 = browser.page_source\n",
    "html = BeautifulSoup(html0, 'html.parser')\n",
    "video_list2 = html.select('div #dismissable')\n",
    "\n",
    "youtube_url = 'http://www.youtube.com'\n",
    "\n",
    "park_url = []\n",
    "\n",
    "#썸네일, 유형, 동영상 게시일, 영상길이, 제목, 조회수, 좋아요, 싫어요 를 저장하기 위한 리스트\n",
    "thumbnail_list = []\n",
    "category_list = []\n",
    "upload_date_list = []\n",
    "video_length_list = []\n",
    "title_list = []\n",
    "view_count_list = []\n",
    "likes_count_list = []\n",
    "dislikes_count_list = []\n",
    "\n",
    "\n",
    "print(\"video_list2의 길이:\",len(video_list2))\n",
    "for i in range(len(video_list2)):\n",
    "    url = youtube_url + video_list2[i].find('a',{'id': 'thumbnail'})['href']\n",
    "    park_url.append(url) # 모든 영상의 url을 youtube_url에 붙여서 완전한 url로 만들고 park_url이라는 리스트에 넣어줌"
   ]
  },
  {
   "cell_type": "code",
   "execution_count": 3,
   "metadata": {},
   "outputs": [
    {
     "name": "stdout",
     "output_type": "stream",
     "text": [
      "23:52\n",
      "14:38\n",
      "27:39\n",
      "26:28\n",
      "30:42\n",
      "24:54\n",
      "29:52\n",
      "25:24\n",
      "24:18\n",
      "20:29\n",
      "21:51\n",
      "21:39\n",
      "23:05\n",
      "31:02\n",
      "25:52\n",
      "23:20\n",
      "25:44\n",
      "33:37\n",
      "24:17\n",
      "28:34\n",
      "29:44\n",
      "34:32\n",
      "22:10\n",
      "22:17\n",
      "24:40\n",
      "25:57\n",
      "12:35\n",
      "28:23\n",
      "21:42\n",
      "24:18\n",
      "27:57\n",
      "19:11\n",
      "14:49\n",
      "20:48\n",
      "24:00\n",
      "20:45\n",
      "21:49\n",
      "25:28\n",
      "23:31\n",
      "25:44\n",
      "28:23\n",
      "26:40\n",
      "23:21\n",
      "27:56\n",
      "25:09\n",
      "26:44\n",
      "21:19\n",
      "15:10\n",
      "23:54\n",
      "21:53\n",
      "19:08\n",
      "22:19\n",
      "30:12\n",
      "21:08\n",
      "22:59\n",
      "19:56\n",
      "22:24\n",
      "22:41\n",
      "21:06\n",
      "17:41\n",
      "23:09\n",
      "22:35\n",
      "16:06\n",
      "22:12\n",
      "22:13\n",
      "24:35\n",
      "22:43\n",
      "24:11\n",
      "21:14\n",
      "17:39\n",
      "6:37\n",
      "19:28\n",
      "16:05\n",
      "21:06\n",
      "22:52\n",
      "15:01\n",
      "23:29\n",
      "25:02\n",
      "17:52\n",
      "22:06\n",
      "20:17\n",
      "20:10\n",
      "21:25\n",
      "16:28\n",
      "18:39\n",
      "20:37\n",
      "20:23\n",
      "18:07\n",
      "29:59\n",
      "22:42\n",
      "17:02\n",
      "15:41\n",
      "16:22\n",
      "15:50\n",
      "16:48\n",
      "14:12\n",
      "13:08\n",
      "13:39\n",
      "14:45\n",
      "12:22\n",
      "8:15\n",
      "8:12\n",
      "11:39\n",
      "13:02\n",
      "11:36\n",
      "4:36\n",
      "6:42\n",
      "7:26\n",
      "4:10\n"
     ]
    }
   ],
   "source": [
    "for video in video_list2:\n",
    "    video_length = video.select_one(\"ytd-thumbnail-overlay-time-status-renderer.ytd-thumbnail > span.style-scope\")\n",
    "    video_length = video_length.text.replace(\"\\n\",\"\").strip()\n",
    "    video_length_list.append(video_length)\n",
    "    print(video_length)"
   ]
  },
  {
   "cell_type": "code",
   "execution_count": 4,
   "metadata": {},
   "outputs": [],
   "source": [
    "# 현재로서는 썸네일, 유형, 동영상 게시일, 영상길이, 제목, 조회수, 좋아요, 싫어요, 만 크롤링 하면 될듯!\n",
    "\n",
    "# park = pd.DataFrame({'thumbnail': [],\n",
    "#                      'title' : [],\n",
    "#                      'category': [],\n",
    "#                      'view_count': [],\n",
    "#                      'likes_count': [],\n",
    "#                      'dislikes_count':[],\n",
    "#                      'video_length':[],\n",
    "#                      'upload_date': [],\n",
    "#                      }) #총 8개의 정보"
   ]
  },
  {
   "cell_type": "code",
   "execution_count": 5,
   "metadata": {},
   "outputs": [
    {
     "name": "stdout",
     "output_type": "stream",
     "text": [
      "0 . 썸네일 https://i.ytimg.com/vi/f80KUtt-zcc/hqdefault.jpg?sqp=-oaymwEZCNACELwBSFXyq4qpAwsIARUAAIhCGAFwAQ==&rs=AOn4CLAYzqGrm-aM88vIgDBQt24VNPc2hw 제목: ENG)출근일상,친구들이랑 비빔밥 해 먹고 라탄 원데이클래스 듣는 뿌듯한 일상 그리고 생일선물 풀어보기 카테고리 Yêu Chim Chim 조회수 조회수 498,730회 좋아요수 1.5만개 싫어요수 181개 게시일 2019. 12. 25.\n"
     ]
    },
    {
     "ename": "AttributeError",
     "evalue": "'NoneType' object has no attribute 'text'",
     "output_type": "error",
     "traceback": [
      "\u001b[1;31m---------------------------------------------------------------------------\u001b[0m",
      "\u001b[1;31mAttributeError\u001b[0m                            Traceback (most recent call last)",
      "\u001b[1;32m<ipython-input-5-0c4c54dedc14>\u001b[0m in \u001b[0;36m<module>\u001b[1;34m\u001b[0m\n\u001b[0;32m     23\u001b[0m     \u001b[1;31m# <파이썬 정규 표현식을 지원하는 >re모듈을 사용해보자\u001b[0m\u001b[1;33m\u001b[0m\u001b[1;33m\u001b[0m\u001b[1;33m\u001b[0m\u001b[0m\n\u001b[0;32m     24\u001b[0m     likes_count = html.find('yt-formatted-string', {'id':'text', 'class':'style-scope ytd-toggle-button-renderer style-text', # 5\n\u001b[1;32m---> 25\u001b[1;33m     'aria-label':re.compile('좋아요')}).text+'개'\n\u001b[0m\u001b[0;32m     26\u001b[0m     dislikes_count = html.find('yt-formatted-string', {'id':'text', 'class':'style-scope ytd-toggle-button-renderer style-text', # 6\n\u001b[0;32m     27\u001b[0m     'aria-label':re.compile('싫어요')}).text+'개'\n",
      "\u001b[1;31mAttributeError\u001b[0m: 'NoneType' object has no attribute 'text'"
     ]
    }
   ],
   "source": [
    "for i in range(len(video_list2)):\n",
    "    #여기까지는 video페이지에서 수집할 수 있는 썸네일, 제목을 가져온다.\n",
    "    thumbnail = video_list2[i].find('a',{'id':'thumbnail'}).find('img')['src'] # 그 하위의 img라는 태그를 또 찾고 거기서 src가져와라 # 1\n",
    "    title = video_list2[i].find('a',{'id':'video-title'}).text # 2 \n",
    "    \n",
    "    # 여기서부터 영상 클릭해서 들어간 페이지\n",
    "    click_url = park_url[i]\n",
    "    browser.get(click_url)\n",
    "    time.sleep(1.5) # 페이지를 넘어가야하므로 로딩을 기다려야함\n",
    "    # body = browser.find_element_by_tag_name('body')\n",
    "    browser.find_element_by_xpath(\"//*[@id='more']/yt-formatted-string\").click() # 카테고리를 크롤링 하기 위해서 더보기를 눌러주자\n",
    "    time.sleep(3)\n",
    "    html0 = browser.page_source\n",
    "    html = BeautifulSoup(html0, 'html.parser')\n",
    "   \n",
    "    # 여기서는 카테고리, 조회수, 좋아요, 싫어요, 영상길이, 동영상 게시일을 크롤링한다 \n",
    "    category = html.find('div', {'id':'collapsible'}).find('a',{'class':'yt-simple-endpoint'}).text\n",
    "    # ytd-metadata-row-renderer.style-scope a\n",
    "    \n",
    "    view_count = html.find('span', {'class': 'view-count'}).text # 4\n",
    "    \n",
    "    # 좋아요와 싫어요는 완전히 똑같은 태그에 들어있다.\n",
    "    # <파이썬 정규 표현식을 지원하는 >re모듈을 사용해보자\n",
    "    likes_count = html.find('yt-formatted-string', {'id':'text', 'class':'style-scope ytd-toggle-button-renderer style-text', # 5\n",
    "    'aria-label':re.compile('좋아요')}).text+'개'\n",
    "    dislikes_count = html.find('yt-formatted-string', {'id':'text', 'class':'style-scope ytd-toggle-button-renderer style-text', # 6\n",
    "    'aria-label':re.compile('싫어요')}).text+'개'\n",
    "    upload_date = html.find('div',{'id':'date'}).find('yt-formatted-string').text # 8\n",
    "    \n",
    "    print(i,\".\",\"썸네일\", thumbnail, \"제목:\", title, \"카테고리\",category,\"조회수\",view_count,\"좋아요수\",likes_count, \"싫어요수\",dislikes_count, \"게시일\", upload_date)\n",
    "    \n",
    "    thumbnail_list.append(thumbnail)\n",
    "    title_list.append(title)\n",
    "    category_list.append(category)\n",
    "    view_count_list.append(view_count)\n",
    "    likes_count_list.append(likes_count)\n",
    "    dislikes_count_list.append(dislikes_count)\n",
    "    upload_date_list.append(upload_date)"
   ]
  },
  {
   "cell_type": "code",
   "execution_count": null,
   "metadata": {},
   "outputs": [],
   "source": [
    "print(len(video_length_list),len(thumbnail_list))"
   ]
  },
  {
   "cell_type": "code",
   "execution_count": null,
   "metadata": {
    "scrolled": true
   },
   "outputs": [],
   "source": [
    "import pandas as pd\n",
    "\n",
    "insert_data = pd.DataFrame({\n",
    "                    'thumbnail': thumbnail_list,\n",
    "                    'title' : title_list,\n",
    "                    'category': category_list,\n",
    "                    'view_count': view_count_list,\n",
    "                    'likes_count': likes_count_list,\n",
    "                    'dislikes_count':dislikes_count_list,\n",
    "                    'upload_date': upload_date_list,\n",
    "                    'video_length' : video_length_list\n",
    "                    }) \n",
    "insert_data"
   ]
  },
  {
   "cell_type": "code",
   "execution_count": null,
   "metadata": {},
   "outputs": [],
   "source": [
    "insert_data.to_csv(\"ondo.csv\",encoding=\"utf8\")"
   ]
  },
  {
   "cell_type": "code",
   "execution_count": null,
   "metadata": {},
   "outputs": [],
   "source": [
    "# 소련여자, 박막례, 최고다윽박, ondo온도, 오킹, 오늘의 하늘,튜브몬,박병창"
   ]
  }
 ],
 "metadata": {
  "kernelspec": {
   "display_name": "Python 3",
   "language": "python",
   "name": "python3"
  },
  "language_info": {
   "codemirror_mode": {
    "name": "ipython",
    "version": 3
   },
   "file_extension": ".py",
   "mimetype": "text/x-python",
   "name": "python",
   "nbconvert_exporter": "python",
   "pygments_lexer": "ipython3",
   "version": "3.7.3"
  }
 },
 "nbformat": 4,
 "nbformat_minor": 2
}
