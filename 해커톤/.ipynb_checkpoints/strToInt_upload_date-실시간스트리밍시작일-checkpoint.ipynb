{
 "cells": [
  {
   "cell_type": "code",
   "execution_count": 1,
   "metadata": {},
   "outputs": [],
   "source": [
    "file_names = [\"soviet\",\"난치\",\"미트\",\"박병창\",\"슛뚜\",\"오늘의하늘\",\"오킹\",\n",
    "              \"온도\",\"윽박이\",\"이승인\"]"
   ]
  },
  {
   "cell_type": "code",
   "execution_count": 2,
   "metadata": {},
   "outputs": [
    {
     "name": "stderr",
     "output_type": "stream",
     "text": [
      "C:\\ProgramData\\Anaconda3\\lib\\site-packages\\ipykernel_launcher.py:35: SettingWithCopyWarning: \n",
      "A value is trying to be set on a copy of a slice from a DataFrame\n",
      "\n",
      "See the caveats in the documentation: http://pandas.pydata.org/pandas-docs/stable/indexing.html#indexing-view-versus-copy\n",
      "C:\\ProgramData\\Anaconda3\\lib\\site-packages\\ipykernel_launcher.py:44: SettingWithCopyWarning: \n",
      "A value is trying to be set on a copy of a slice from a DataFrame\n",
      "\n",
      "See the caveats in the documentation: http://pandas.pydata.org/pandas-docs/stable/indexing.html#indexing-view-versus-copy\n",
      "C:\\ProgramData\\Anaconda3\\lib\\site-packages\\ipykernel_launcher.py:58: SettingWithCopyWarning: \n",
      "A value is trying to be set on a copy of a slice from a DataFrame\n",
      "\n",
      "See the caveats in the documentation: http://pandas.pydata.org/pandas-docs/stable/indexing.html#indexing-view-versus-copy\n",
      "C:\\ProgramData\\Anaconda3\\lib\\site-packages\\ipykernel_launcher.py:73: SettingWithCopyWarning: \n",
      "A value is trying to be set on a copy of a slice from a DataFrame\n",
      "\n",
      "See the caveats in the documentation: http://pandas.pydata.org/pandas-docs/stable/indexing.html#indexing-view-versus-copy\n"
     ]
    }
   ],
   "source": [
    "import pandas as pd\n",
    "from datetime import datetime\n",
    "\n",
    "for file in file_names:\n",
    "    df = pd.read_excel(file+\".xlsx\")\n",
    "    df.head()\n",
    "\n",
    "    upload_date_list = df[\"upload_date\"]\n",
    "\n",
    "\n",
    "\n",
    "\n",
    "    for i in range(len(upload_date_list)):\n",
    "        upload_date = upload_date_list[i].replace(\".\",\"\").replace(\" \",\"0\")\n",
    "        # print(\"Before: \",upload_date)\n",
    "        if upload_date[:7] == \"최초0공개:0\":\n",
    "            upload_date = upload_date.replace(\"최초0공개:0\",\"\")\n",
    "\n",
    "        if upload_date[:14] == \"실시간0스트리밍0시작일:0\":\n",
    "            upload_date = upload_date.replace(\"실시간0스트리밍0시작일:0\",\"\")\n",
    "\n",
    "        if len(upload_date) == 10:\n",
    "            upload_date = upload_date[:4]+upload_date[5:7]+upload_date[8:] \n",
    "\n",
    "        elif len(upload_date) == 9:\n",
    "            upload_date = upload_date[:4] + upload_date[4:6]+upload_date[7:]\n",
    "\n",
    "        # print(\"After:\" ,upload_date)\n",
    "\n",
    "        upload_year = int(upload_date[:4])\n",
    "        upload_month = int(upload_date[4:6])\n",
    "        upload_day = int(upload_date[6:])\n",
    "        #print(upload_year, upload_month,upload_day)\n",
    "        d1 = datetime(upload_year,upload_month,upload_day)\n",
    "        upload_date_list[i] = d1\n",
    "\n",
    "\n",
    "\n",
    "    df[\"upload_date\"]\n",
    "\n",
    "    view_count_list = df[\"view_count\"]\n",
    "    for i in range(len(view_count_list)):\n",
    "        view_count = int(view_count_list[i].replace(\"조회수\",\"\").replace(\",\",\"\").replace(\"회\",\"\"))\n",
    "        view_count_list[i] = view_count\n",
    "\n",
    "\n",
    "\n",
    "    likes_count_list = df[\"likes_count\"]\n",
    "    for i in range(len(likes_count_list)):\n",
    "        likes_count = likes_count_list[i]\n",
    "\n",
    "        if likes_count[-2:] == \"천개\":\n",
    "            likes_count = float(likes_count[:-2]) * 1000\n",
    "        elif likes_count[-2:]==\"만개\":\n",
    "            likes_count = float(likes_count[:-2]) * 10000\n",
    "        elif likes_count[-1]==\"개\":\n",
    "            likes_count = float(likes_count[:-1])\n",
    "        likes_count_list[i] = likes_count\n",
    "\n",
    "\n",
    "    dislikes_count_list = df[\"dislikes_count\"]\n",
    "    for i in range(len(dislikes_count_list)):\n",
    "        dislikes_count = dislikes_count_list[i]\n",
    "\n",
    "\n",
    "        if dislikes_count[-2:]==\"천개\":\n",
    "            dislikes_count = float(dislikes_count.replace(\"천개\",\"\")) * 1000\n",
    "\n",
    "\n",
    "        elif dislikes_count[-1] == \"개\":\n",
    "            dislikes_count = int(dislikes_count.replace(\"개\",\"\")) \n",
    "\n",
    "        dislikes_count_list[i] = dislikes_count\n",
    "\n",
    "    df = df.drop([\"Unnamed: 0\"], axis=\"columns\")\n",
    "    df.to_excel(file+\"_작업본.xlsx\")"
   ]
  },
  {
   "cell_type": "code",
   "execution_count": null,
   "metadata": {},
   "outputs": [],
   "source": []
  }
 ],
 "metadata": {
  "kernelspec": {
   "display_name": "Python 3",
   "language": "python",
   "name": "python3"
  },
  "language_info": {
   "codemirror_mode": {
    "name": "ipython",
    "version": 3
   },
   "file_extension": ".py",
   "mimetype": "text/x-python",
   "name": "python",
   "nbconvert_exporter": "python",
   "pygments_lexer": "ipython3",
   "version": "3.7.3"
  }
 },
 "nbformat": 4,
 "nbformat_minor": 2
}
