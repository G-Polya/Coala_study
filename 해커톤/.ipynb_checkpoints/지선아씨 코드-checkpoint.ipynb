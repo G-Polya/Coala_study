{
 "cells": [
  {
   "cell_type": "code",
   "execution_count": 1,
   "metadata": {},
   "outputs": [],
   "source": [
    "import requests\n",
    "from bs4 import BeautifulSoup\n",
    "import time\n",
    "from selenium.webdriver import Chrome\n",
    "import re\n",
    "from selenium.webdriver.chrome.options import Options\n",
    "from selenium.webdriver.common.keys import Keys\n",
    "import datetime as dt\n",
    "\n",
    "delay = 3\n",
    "browser = Chrome(\"./chromedriver\")\n",
    "browser.implicitly_wait(delay)\n",
    "browser.get(\"https://www.youtube.com/channel/UCyDZ65ZwrCD3sDYyrAGV66g/videos\") # 박막례할머니 동영상 페이지로 들어감\n",
    "browser.maximize_window()\n",
    "body = browser.find_element_by_tag_name('body') # body태그 가져오기\n",
    "\n",
    "num_of_pagedowns = 22\n",
    "while num_of_pagedowns:\n",
    "    body.send_keys(Keys.PAGE_DOWN)\n",
    "    time.sleep(2)\n",
    "    num_of_pagedowns -= 1 #video페이지의 스크롤을 충분히 밑으로 내려놓고"
   ]
  },
  {
   "cell_type": "code",
   "execution_count": 2,
   "metadata": {},
   "outputs": [
    {
     "name": "stdout",
     "output_type": "stream",
     "text": [
      "video_list2의 길이: 41\n"
     ]
    }
   ],
   "source": [
    "html0 = browser.page_source\n",
    "html = BeautifulSoup(html0, 'html.parser')\n",
    "video_list2 = html.select('div #dismissable')\n",
    "\n",
    "youtube_url = 'http://www.youtube.com'\n",
    "\n",
    "park_url = []\n",
    "\n",
    "#썸네일, 유형, 동영상 게시일, 영상길이, 제목, 조회수, 좋아요, 싫어요 를 저장하기 위한 리스트\n",
    "thumbnail_list = []\n",
    "category_list = []\n",
    "upload_date_list = []\n",
    "video_length_list = []\n",
    "title_list = []\n",
    "view_count_list = []\n",
    "likes_count_list = []\n",
    "dislikes_count_list = []\n",
    "\n",
    "\n",
    "print(\"video_list2의 길이:\",len(video_list2))\n",
    "for i in range(len(video_list2)):\n",
    "    url = youtube_url + video_list2[i].find('a',{'id': 'thumbnail'})['href']\n",
    "    park_url.append(url) # 모든 영상의 url을 youtube_url에 붙여서 완전한 url로 만들고 park_url이라는 리스트에 넣어줌"
   ]
  },
  {
   "cell_type": "code",
   "execution_count": 3,
   "metadata": {},
   "outputs": [
    {
     "name": "stdout",
     "output_type": "stream",
     "text": [
      "4:26\n",
      "7:25\n",
      "2:52\n",
      "3:55\n",
      "6:26\n",
      "5:41\n",
      "5:17\n",
      "3:04\n",
      "7:41\n",
      "6:29\n",
      "6:14\n",
      "5:26\n",
      "6:15\n",
      "4:01\n",
      "2:59\n",
      "5:49\n",
      "4:43\n",
      "4:38\n",
      "3:08\n",
      "4:34\n",
      "6:51\n",
      "3:04\n",
      "2:44\n",
      "4:06\n",
      "1:46\n",
      "2:11\n",
      "5:04\n",
      "2:52\n",
      "3:12\n",
      "3:33\n",
      "3:19\n",
      "3:36\n",
      "6:10\n",
      "3:16\n",
      "7:03\n",
      "4:06\n",
      "3:40\n",
      "3:13\n",
      "4:43\n",
      "2:13\n",
      "2:38\n"
     ]
    }
   ],
   "source": [
    "for video in video_list2:\n",
    "    video_length = video.select_one(\"ytd-thumbnail-overlay-time-status-renderer.ytd-thumbnail > span.style-scope\")\n",
    "    video_length = video_length.text.replace(\"\\n\",\"\").strip()\n",
    "    video_length_list.append(video_length)\n",
    "    print(video_length)"
   ]
  },
  {
   "cell_type": "code",
   "execution_count": 4,
   "metadata": {},
   "outputs": [],
   "source": [
    "# 현재로서는 썸네일, 유형, 동영상 게시일, 영상길이, 제목, 조회수, 좋아요, 싫어요, 만 크롤링 하면 될듯!\n",
    "\n",
    "# park = pd.DataFrame({'thumbnail': [],\n",
    "#                      'title' : [],\n",
    "#                      'category': [],\n",
    "#                      'view_count': [],\n",
    "#                      'likes_count': [],\n",
    "#                      'dislikes_count':[],\n",
    "#                      'video_length':[],\n",
    "#                      'upload_date': [],\n",
    "#                      }) #총 8개의 정보"
   ]
  },
  {
   "cell_type": "code",
   "execution_count": null,
   "metadata": {},
   "outputs": [
    {
     "name": "stdout",
     "output_type": "stream",
     "text": [
      "0 . 썸네일 https://i.ytimg.com/vi/Zi591bP19jg/hqdefault.jpg?sqp=-oaymwEZCNACELwBSFXyq4qpAwsIARUAAIhCGAFwAQ==&rs=AOn4CLAgJWQjWzN-Ht617lWaHOn7EflJFA 제목: 스트릿출신 아기개냥이 눈만 마주쳐도 애교가 콸콸콸~💦 카테고리 동물 조회수 조회수 40,485회 좋아요수 2.3천개 싫어요수 8개 게시일 2020. 1. 6.\n",
      "1 . 썸네일 https://i.ytimg.com/vi/u-OG5LWmzTg/hqdefault.jpg?sqp=-oaymwEZCNACELwBSFXyq4qpAwsIARUAAIhCGAFwAQ==&rs=AOn4CLCx9L_K3k_IUWsHJ7jTt-t8KFyB2A 제목: [아깽이 비밀기지] 고양이가 사라졌다면 여기를 찾아보세요! 카테고리 동물 조회수 조회수 18,942회 좋아요수 1천개 싫어요수 12개 게시일 2020. 1. 3.\n",
      "2 . 썸네일 https://i.ytimg.com/vi/BxPuIX_lS3w/hqdefault.jpg?sqp=-oaymwEZCNACELwBSFXyq4qpAwsIARUAAIhCGAFwAQ==&rs=AOn4CLB0HpIgRVmUS3qDpVrBx_i9J6nY3A 제목: 냥줍한 개냥이랑 새해 해돋이 보기🌄 카테고리 동물 조회수 조회수 17,687회 좋아요수 1.2천개 싫어요수 3개 게시일 2019. 12. 31.\n",
      "3 . 썸네일 https://i.ytimg.com/vi/KO6PesQBfHo/hqdefault.jpg?sqp=-oaymwEZCNACELwBSFXyq4qpAwsIARUAAIhCGAFwAQ==&rs=AOn4CLDBcp_P3VhoyzMIG3n3pF6j46wEOA 제목: 세상 귀여운 아기고양이들의 젤리 공개 영상🐾 카테고리 동물 조회수 조회수 10,644회 좋아요수 769개 싫어요수 2개 게시일 2019. 12. 30.\n",
      "4 . 썸네일 https://i.ytimg.com/vi/2Cs7RGs8NfY/hqdefault.jpg?sqp=-oaymwEZCNACELwBSFXyq4qpAwsIARUAAIhCGAFwAQ==&rs=AOn4CLCi2FzP0L2sxd_Qku7Wq-gbsI1CHQ 제목: 냥줍한 개냥이의 새벽잠투정.. 아기고양이가 자꾸 젖 좀 달래요😭 카테고리 동물 조회수 조회수 36,848회 좋아요수 1.8천개 싫어요수 7개 게시일 2019. 12. 30.\n",
      "5 . 썸네일 https://i.ytimg.com/vi/Xl8Gu5esWGc/hqdefault.jpg?sqp=-oaymwEZCNACELwBSFXyq4qpAwsIARUAAIhCGAFwAQ==&rs=AOn4CLDq3Y_-TCRFxxA5nvTkKFyLo84FPQ 제목: 아깽이 오둥이 구조 두 달 차! 오동통 심쿵 비주얼 카테고리 동물 조회수 조회수 19,323회 좋아요수 1천개 싫어요수 9개 게시일 2019. 12. 29.\n",
      "6 . 썸네일 https://i.ytimg.com/vi/WyT77AgPZpo/hqdefault.jpg?sqp=-oaymwEZCNACELwBSFXyq4qpAwsIARUAAIhCGAFwAQ==&rs=AOn4CLDnvaknBxc3YLuVzrEb96mFtCmtQQ 제목: 냥줍한 초개냥이.. 단잠을 깨워도 그저 좋대요 카테고리 동물 조회수 조회수 157,878회 좋아요수 5.2천개 싫어요수 42개 게시일 2019. 12. 27.\n",
      "7 . 썸네일 https://i.ytimg.com/vi/a3GGO5OYm-U/hqdefault.jpg?sqp=-oaymwEZCNACELwBSFXyq4qpAwsIARUAAIhCGAFwAQ==&rs=AOn4CLDYL7s6hlANB6uGSs6Rjp7yQ5yKEQ 제목: 고양이의 귀여운 울음소리로 전하는 크리스마스 메세지 💌🐾 카테고리 동물 조회수 조회수 18,066회 좋아요수 1.1천개 싫어요수 10개 게시일 2019. 12. 24.\n",
      "8 . 썸네일 https://i.ytimg.com/vi/TfOplavCoPE/hqdefault.jpg?sqp=-oaymwEZCNACELwBSFXyq4qpAwsIARUAAIhCGAFwAQ==&rs=AOn4CLDnHKbwQFYbaOEvYG5IREvrTYBBMQ 제목: 고양이 묘생 첫 츄르! 아깽이들이 엄마도 못 알아보는 맛 카테고리 동물 조회수 조회수 87,719회 좋아요수 2.4천개 싫어요수 45개 게시일 2019. 12. 19.\n",
      "9 . 썸네일 https://i.ytimg.com/vi/3ZGQ8gxxCMo/hqdefault.jpg?sqp=-oaymwEZCNACELwBSFXyq4qpAwsIARUAAIhCGAFwAQ==&rs=AOn4CLAS9jG-VAhYf79iMRzxmYfibLYIhQ 제목: 엄청난 개냥이 냥줍 후 합사 성공! 개냥이끼리는 어렵지 않아요 카테고리 동물 조회수 조회수 581,398회 좋아요수 1.5만개 싫어요수 160개 게시일 2019. 12. 16.\n",
      "10 . 썸네일 https://i.ytimg.com/vi/mQ5nzmFSLA4/hqdefault.jpg?sqp=-oaymwEZCNACELwBSFXyq4qpAwsIARUAAIhCGAFwAQ==&rs=AOn4CLBAnLw62TSHSnuaSmjl1H5NsOYT7w 제목: 엄청난 개냥이가 자꾸 따라와요.. 아기고양이 간택?냥줍? 카테고리 동물 조회수 조회수 734,512회 좋아요수 2.6만개 싫어요수 229개 게시일 2019. 12. 13.\n",
      "11 . 썸네일 https://i.ytimg.com/vi/jV8OoIynrDE/hqdefault.jpg?sqp=-oaymwEZCNACELwBSFXyq4qpAwsIARUAAIhCGAFwAQ==&rs=AOn4CLBRoJ9hN_YDk36fz49Fp89upA7mbA 제목: 혼자 놀다 결국 돌아버린 고양이 카테고리 동물 조회수 조회수 4,981회 좋아요수 437개 싫어요수 2개 게시일 2019. 12. 8.\n",
      "12 . 썸네일 https://i.ytimg.com/vi/2rZIjQ8hb8g/hqdefault.jpg?sqp=-oaymwEZCPYBEIoBSFXyq4qpAwsIARUAAIhCGAFwAQ==&rs=AOn4CLBP6Pv0CkQP20bAPyrxgxuhWYr-og 제목: 울고 싸우고 옹알이 하고! 아깽이들의 눈물 나게 맛있는 첫 사료 먹방 카테고리 동물 조회수 조회수 25,919회 좋아요수 1.3천개 싫어요수 6개 게시일 2019. 12. 5.\n",
      "13 . 썸네일 https://i.ytimg.com/vi/e6SNKCf7PFs/hqdefault.jpg?sqp=-oaymwEZCPYBEIoBSFXyq4qpAwsIARUAAIhCGAFwAQ==&rs=AOn4CLBr3NyrGLFoTIVmTQ3Rml2e_eFjYA 제목: [심장주의] 초근접 아깽이 영상! 행복해지고 싶으시다면 클릭하세요 카테고리 동물 조회수 조회수 22,257회 좋아요수 1.5천개 싫어요수 7개 게시일 2019. 12. 2.\n",
      "14 . 썸네일 https://i.ytimg.com/vi/lbXsktzxuFo/hqdefault.jpg?sqp=-oaymwEZCPYBEIoBSFXyq4qpAwsIARUAAIhCGAFwAQ==&rs=AOn4CLBPeStJIgsrErFO63t-YMNhGPZF5Q 제목: 집사를 격하게 반겨주며 냥냥하는 귀여운 아깽이들 카테고리 동물 조회수 조회수 29,198회 좋아요수 1.4천개 싫어요수 14개 게시일 2019. 11. 29.\n",
      "15 . 썸네일 https://i.ytimg.com/vi/OksivcdSWkk/hqdefault.jpg?sqp=-oaymwEZCPYBEIoBSFXyq4qpAwsIARUAAIhCGAFwAQ==&rs=AOn4CLBKsh8WhGlfKK171iVPByS6Qej6iw 제목: 고양이의 본능?! 배변훈련이 따로 필요없는 똑똑한 아깽이들 카테고리 동물 조회수 조회수 52,344회 좋아요수 1.9천개 싫어요수 15개 게시일 2019. 11. 26.\n",
      "16 . 썸네일 https://i.ytimg.com/vi/zKlhSctHrHo/hqdefault.jpg?sqp=-oaymwEZCPYBEIoBSFXyq4qpAwsIARUAAIhCGAFwAQ==&rs=AOn4CLDemeQQNmST5yClFPfWkfaI1QBVpQ 제목: 태어난지 한달 된 새끼고양이들의 귀여운 사냥 놀이 카테고리 동물 조회수 조회수 26,086회 좋아요수 1.2천개 싫어요수 3개 게시일 2019. 11. 23.\n",
      "17 . 썸네일 https://i.ytimg.com/vi/nH-OknI6fAY/hqdefault.jpg?sqp=-oaymwEZCPYBEIoBSFXyq4qpAwsIARUAAIhCGAFwAQ==&rs=AOn4CLC0bQ-D5qWIe5E9Pi-aE_-SZCMD9A 제목: 낯선 고양이를 처음 본 아깽이들의 깜찍한 반응 카테고리 동물 조회수 조회수 135,212회 좋아요수 3.8천개 싫어요수 44개 게시일 2019. 11. 20.\n",
      "18 . 썸네일 https://i.ytimg.com/vi/RdE9DmThWzQ/hqdefault.jpg?sqp=-oaymwEZCPYBEIoBSFXyq4qpAwsIARUAAIhCGAFwAQ==&rs=AOn4CLBMZaBbco2tqxFn6EanwBUyiAT7Qg 제목: 아깽이들에게 관심 받고 싶은 어미냥이의 귀여운 행동 카테고리 동물 조회수 조회수 27,936회 좋아요수 1.6천개 싫어요수 9개 게시일 2019. 11. 17.\n",
      "19 . 썸네일 https://i.ytimg.com/vi/x5k2tigFOqA/hqdefault.jpg?sqp=-oaymwEZCPYBEIoBSFXyq4qpAwsIARUAAIhCGAFwAQ==&rs=AOn4CLArbCCuPxktyzqWFZAGEyrgYfLNlg 제목: 분리수거장 새끼고양이 오둥이 랜선집사님들께 인사드립니다! 카테고리 동물 조회수 조회수 69,925회 좋아요수 3.7천개 싫어요수 25개 게시일 2019. 11. 14.\n",
      "20 . 썸네일 https://i.ytimg.com/vi/0q-TQ6pFDFM/hqdefault.jpg?sqp=-oaymwEZCPYBEIoBSFXyq4qpAwsIARUAAIhCGAFwAQ==&rs=AOn4CLDI7omr2twJgQDOSxYINWRBrwx0AA 제목: 도와달라는 어미냥이와 새끼고양이 오둥이 결국 구조했습니다 카테고리 동물 조회수 조회수 215,963회 좋아요수 8.8천개 싫어요수 83개 게시일 2019. 11. 11.\n",
      "21 . 썸네일 https://i.ytimg.com/vi/WD_B_xjd-Ag/hqdefault.jpg?sqp=-oaymwEZCPYBEIoBSFXyq4qpAwsIARUAAIhCGAFwAQ==&rs=AOn4CLBhGntL0pSA7tzFxn1bbg19qUx7gA 제목: 분리수거장 새끼고양이 오둥이 발견 그 후 카테고리 동물 조회수 조회수 31,633회 좋아요수 1.3천개 싫어요수 11개 게시일 2019. 11. 6.\n",
      "22 . 썸네일 https://i.ytimg.com/vi/0QVwGSByG2w/hqdefault.jpg?sqp=-oaymwEZCPYBEIoBSFXyq4qpAwsIARUAAIhCGAFwAQ==&rs=AOn4CLDBEOpm4GhJLAM2wPAT85toujvapg 제목: 분리수거장에서 발견된 눈도 못 뜬 새끼고양이 오둥이 카테고리 동물 조회수 조회수 14,818회 좋아요수 768개 싫어요수 8개 게시일 2019. 11. 3.\n",
      "23 . 썸네일 https://i.ytimg.com/vi/VtgeZxDKF5Y/hqdefault.jpg?sqp=-oaymwEZCPYBEIoBSFXyq4qpAwsIARUAAIhCGAFwAQ==&rs=AOn4CLDhwrvgsvxHOlDo9oQoFBHAgf4vYg 제목: 고양이 마취 부작용? 중성화 수술 직후 고양이에게 일어나는 일 카테고리 동물 조회수 조회수 3,531회 좋아요수 274개 싫어요수 3개 게시일 2019. 10. 31.\n",
      "24 . 썸네일 https://i.ytimg.com/vi/UyOE4Xp8pDM/hqdefault.jpg?sqp=-oaymwEZCPYBEIoBSFXyq4qpAwsIARUAAIhCGAFwAQ==&rs=AOn4CLBVApU1zeRuuBnb_3Szz5j77Rc8QQ 제목: 보기만 해도 힐링되는 졸린 고양이의 사랑스러운 모습 카테고리 동물 조회수 조회수 954회 좋아요수 116개 싫어요수 0개 게시일 2019. 10. 28.\n",
      "25 . 썸네일 https://i.ytimg.com/vi/ZLkOpcTFySs/hqdefault.jpg?sqp=-oaymwEZCPYBEIoBSFXyq4qpAwsIARUAAIhCGAFwAQ==&rs=AOn4CLCF5obaiDf9amtmjuhK77FSEUVmxA 제목: [고양이 눈키스] 말걸면 눈인사로 대답해주는 대답냥이 카테고리 동물 조회수 조회수 1,976회 좋아요수 181개 싫어요수 0개 게시일 2019. 10. 24.\n",
      "26 . 썸네일 https://i.ytimg.com/vi/M2ei99Ps1Gk/hqdefault.jpg?sqp=-oaymwEZCPYBEIoBSFXyq4qpAwsIARUAAIhCGAFwAQ==&rs=AOn4CLD0piK2tPG3Pv4113WDEQGaKrBjGg 제목: [길냥이 밥주기] 해변에서 처음 만난 길고양이 만질 수 있을까?? 카테고리 동물 조회수 조회수 2,554회 좋아요수 187개 싫어요수 1개 게시일 2019. 10. 21.\n",
      "27 . 썸네일 https://i.ytimg.com/vi/7lvXBKal5U4/hqdefault.jpg?sqp=-oaymwEZCPYBEIoBSFXyq4qpAwsIARUAAIhCGAFwAQ==&rs=AOn4CLDcOko_aULj57-FGDrN6WFvXwLtsQ 제목: [축구하는 고양이] 드리블과 패스를 하며 공놀이하는 아깽이 카테고리 동물 조회수 조회수 1,587회 좋아요수 149개 싫어요수 0개 게시일 2019. 10. 19.\n",
      "28 . 썸네일 https://i.ytimg.com/vi/BT-R2nI0WAw/hqdefault.jpg?sqp=-oaymwEZCPYBEIoBSFXyq4qpAwsIARUAAIhCGAFwAQ==&rs=AOn4CLCfDt7FgZ-nCwE2cnC_pQtnVMo5og 제목: [고양이 발톱깎기] 하악질과 으르렁의 콜라보레이션! 카테고리 동물 조회수 조회수 3,391회 좋아요수 208개 싫어요수 2개 게시일 2019. 10. 16.\n",
      "29 . 썸네일 https://i.ytimg.com/vi/yICy2RP1Ctw/hqdefault.jpg?sqp=-oaymwEZCPYBEIoBSFXyq4qpAwsIARUAAIhCGAFwAQ==&rs=AOn4CLAacbEH9uKp_XJIrHXdCy_ONbYekw 제목: [고양이 혼자놀기] 악당과 싸우는 슈퍼히어로가 된 고양이 카테고리 동물 조회수 조회수 1,311회 좋아요수 140개 싫어요수 0개 게시일 2019. 10. 14.\n",
      "30 . 썸네일 https://i.ytimg.com/vi/R50GS4bM9YU/hqdefault.jpg?sqp=-oaymwEZCNACELwBSFXyq4qpAwsIARUAAIhCGAFwAQ==&rs=AOn4CLCG8SUKKmbdKfHpQ0ZZYlu3rZBG_Q 제목: [길고양이 먹방] 길냥이에게 참치 간식 주기 카테고리 동물 조회수 조회수 846회 좋아요수 71개 싫어요수 0개 게시일 2019. 10. 13.\n",
      "31 . 썸네일 https://i.ytimg.com/vi/wyyi9mhWYzA/hqdefault.jpg?sqp=-oaymwEZCNACELwBSFXyq4qpAwsIARUAAIhCGAFwAQ==&rs=AOn4CLCZ-wRMsGyALuWK1KfL6_jJEk-CXw 제목: [냥아치 VLOG] 박스를 사수하는 고양이 (feat.냥냥펀치) 카테고리 동물 조회수 조회수 2,424회 좋아요수 190개 싫어요수 1개 게시일 2019. 10. 10.\n",
      "32 . 썸네일 https://i.ytimg.com/vi/GmvKMedNDiE/hqdefault.jpg?sqp=-oaymwEZCNACELwBSFXyq4qpAwsIARUAAIhCGAFwAQ==&rs=AOn4CLCcg2TNI6gxw8MNXha0cyViML0HKQ 제목: 고양이 간식 하울 언박싱 (시루) 카테고리 동물 조회수 조회수 1,398회 좋아요수 141개 싫어요수 3개 게시일 2019. 10. 8.\n",
      "33 . 썸네일 https://i.ytimg.com/vi/QPHqK9GgfdI/hqdefault.jpg?sqp=-oaymwEZCNACELwBSFXyq4qpAwsIARUAAIhCGAFwAQ==&rs=AOn4CLDZFh2MF2lUI2K0xf2SU7fHd4UxFg 제목: 과연 고양이는 이름을 부르면 달려올까?? 카테고리 동물 조회수 조회수 2,333회 좋아요수 188개 싫어요수 1개 게시일 2019. 10. 6.\n",
      "34 . 썸네일 https://i.ytimg.com/vi/j0OgzBZgQe4/hqdefault.jpg?sqp=-oaymwEZCNACELwBSFXyq4qpAwsIARUAAIhCGAFwAQ==&rs=AOn4CLDL4Lcv6sE9Wao1sQTki56LQ93Sog 제목: [새끼고양이 구출기] 도로 위에 서있던 아깽이 구조했습니다 카테고리 동물 조회수 조회수 204,000회 좋아요수 8.2천개 싫어요수 68개 게시일 2019. 10. 4.\n"
     ]
    },
    {
     "name": "stdout",
     "output_type": "stream",
     "text": [
      "35 . 썸네일 https://i.ytimg.com/vi/36rT6qtxbM4/hqdefault.jpg?sqp=-oaymwEZCNACELwBSFXyq4qpAwsIARUAAIhCGAFwAQ==&rs=AOn4CLCcqJ1I8XjwzvOzQIJG3-VK1BRh8g 제목: 귀여운 길고양이 시루 냥줍 스토리 카테고리 동물 조회수 조회수 9,440회 좋아요수 668개 싫어요수 4개 게시일 2019. 10. 1.\n"
     ]
    }
   ],
   "source": [
    "for i in range(len(video_list2)):\n",
    "    #여기까지는 video페이지에서 수집할 수 있는 썸네일, 제목을 가져온다.\n",
    "    thumbnail = video_list2[i].find('a',{'id':'thumbnail'}).find('img')['src'] # 그 하위의 img라는 태그를 또 찾고 거기서 src가져와라 # 1\n",
    "    title = video_list2[i].find('a',{'id':'video-title'}).text # 2 \n",
    "    \n",
    "    # 여기서부터 영상 클릭해서 들어간 페이지\n",
    "    click_url = park_url[i]\n",
    "    browser.get(click_url)\n",
    "    time.sleep(1.5) # 페이지를 넘어가야하므로 로딩을 기다려야함\n",
    "    # body = browser.find_element_by_tag_name('body')\n",
    "    browser.find_element_by_xpath(\"//*[@id='more']/yt-formatted-string\").click() # 카테고리를 크롤링 하기 위해서 더보기를 눌러주자\n",
    "    time.sleep(3)\n",
    "    html0 = browser.page_source\n",
    "    html = BeautifulSoup(html0, 'html.parser')\n",
    "   \n",
    "    # 여기서는 카테고리, 조회수, 좋아요, 싫어요, 영상길이, 동영상 게시일을 크롤링한다 \n",
    "    category = html.find('div', {'id':'collapsible'}).find('a',{'class':'yt-simple-endpoint'}).text\n",
    "    view_count = html.find('span', {'class': 'view-count'}).text # 4\n",
    "    \n",
    "    # 좋아요와 싫어요는 완전히 똑같은 태그에 들어있다.\n",
    "    # <파이썬 정규 표현식을 지원하는 >re모듈을 사용해보자\n",
    "    likes_count = html.find('yt-formatted-string', {'id':'text', 'class':'style-scope ytd-toggle-button-renderer style-text', # 5\n",
    "    'aria-label':re.compile('좋아요')}).text+'개'\n",
    "    dislikes_count = html.find('yt-formatted-string', {'id':'text', 'class':'style-scope ytd-toggle-button-renderer style-text', # 6\n",
    "    'aria-label':re.compile('싫어요')}).text+'개'\n",
    "    upload_date = html.find('div',{'id':'date'}).find('yt-formatted-string').text # 8\n",
    "    \n",
    "    print(i,\".\",\"썸네일\", thumbnail, \"제목:\", title, \"카테고리\",category,\"조회수\",view_count,\"좋아요수\",likes_count, \"싫어요수\",dislikes_count, \"게시일\", upload_date)\n",
    "    \n",
    "    thumbnail_list.append(thumbnail)\n",
    "    title_list.append(title)\n",
    "    category_list.append(category)\n",
    "    view_count_list.append(view_count)\n",
    "    likes_count_list.append(likes_count)\n",
    "    dislikes_count_list.append(dislikes_count)\n",
    "    upload_date_list.append(upload_date)"
   ]
  },
  {
   "cell_type": "code",
   "execution_count": null,
   "metadata": {},
   "outputs": [],
   "source": []
  },
  {
   "cell_type": "code",
   "execution_count": null,
   "metadata": {
    "scrolled": true
   },
   "outputs": [],
   "source": [
    "import pandas as pd\n",
    "insert_data = pd.DataFrame({\n",
    "                    \"항목\" : [\"썸네일\",\"제목\",\"카테고리\",\"조회수\",\"좋아요 수\",\"싫어요 수\",\"업로드날짜\",\"영상길이\"]\n",
    "                    'thumbnail': thumbnail_list,\n",
    "                    'title' : title_list,\n",
    "                    'category': category_list,\n",
    "                    'view_count': view_count_list,\n",
    "                    'likes_count': likes_count_list,\n",
    "                    'dislikes_count':dislikes_count_list,\n",
    "                    'upload_date': upload_date_list,\n",
    "                    'video_length' : video_length_list\n",
    "                    }) \n",
    "insert_data"
   ]
  },
  {
   "cell_type": "code",
   "execution_count": null,
   "metadata": {},
   "outputs": [],
   "source": [
    "insert_data.to_csv(\"cat.csv\",encoding=\"utf8\")"
   ]
  },
  {
   "cell_type": "code",
   "execution_count": null,
   "metadata": {},
   "outputs": [],
   "source": [
    "# 소련여자, 박막례, 최고다윽박, ondo온도, 오킹, 오늘의 하늘,튜브몬,박병창"
   ]
  },
  {
   "cell_type": "code",
   "execution_count": null,
   "metadata": {},
   "outputs": [],
   "source": []
  }
 ],
 "metadata": {
  "kernelspec": {
   "display_name": "Python 3",
   "language": "python",
   "name": "python3"
  },
  "language_info": {
   "codemirror_mode": {
    "name": "ipython",
    "version": 3
   },
   "file_extension": ".py",
   "mimetype": "text/x-python",
   "name": "python",
   "nbconvert_exporter": "python",
   "pygments_lexer": "ipython3",
   "version": "3.7.3"
  }
 },
 "nbformat": 4,
 "nbformat_minor": 2
}
