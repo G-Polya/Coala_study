{
 "cells": [
  {
   "cell_type": "code",
   "execution_count": 1,
   "metadata": {},
   "outputs": [],
   "source": [
    "import requests\n",
    "from bs4 import BeautifulSoup\n",
    "import time\n",
    "from selenium.webdriver import Chrome\n",
    "import re\n",
    "from selenium.webdriver.chrome.options import Options\n",
    "from selenium.webdriver.common.keys import Keys\n",
    "import datetime as dt"
   ]
  },
  {
   "cell_type": "code",
   "execution_count": 2,
   "metadata": {},
   "outputs": [],
   "source": [
    "youtuber_name = \"박막례\""
   ]
  },
  {
   "cell_type": "code",
   "execution_count": 3,
   "metadata": {},
   "outputs": [],
   "source": [
    "delay = 3\n",
    "browser = Chrome(\"./chromedriver\")\n",
    "browser.implicitly_wait(delay)"
   ]
  },
  {
   "cell_type": "code",
   "execution_count": 4,
   "metadata": {},
   "outputs": [],
   "source": [
    "# 유튜브 켜서 검색어 입력까지\n",
    "browser.get(\"https://www.youtube.com/\")\n",
    "\n",
    "search_box = browser.find_element_by_css_selector(\"input#search\")\n",
    "search_box.send_keys(youtuber_name)\n",
    "\n",
    "search_button = browser.find_element_by_css_selector(\"button#search-icon-legacy\")\n",
    "search_button.click()\n",
    "browser.implicitly_wait(3)"
   ]
  },
  {
   "cell_type": "code",
   "execution_count": 5,
   "metadata": {},
   "outputs": [],
   "source": [
    "# 유튜버 채널로 이동\n",
    "youtuber_box = browser.find_element_by_css_selector(\"a#main-link\")\n",
    "youtuber_box.click()\n"
   ]
  },
  {
   "cell_type": "code",
   "execution_count": null,
   "metadata": {},
   "outputs": [],
   "source": []
  },
  {
   "cell_type": "code",
   "execution_count": 6,
   "metadata": {},
   "outputs": [],
   "source": [
    "# 유튜버 동영상 탭으로 이동\n",
    "browser.maximize_window()\n",
    "body = browser.find_element_by_tag_name('body') # body태그 가져오기\n",
    "\n",
    "youtuber_videos = browser.find_elements_by_css_selector(\"paper-tab.style-scope\")[1]\n",
    "youtuber_videos.click()"
   ]
  },
  {
   "cell_type": "code",
   "execution_count": 7,
   "metadata": {},
   "outputs": [],
   "source": [
    "num_of_pagedowns = 22\n",
    "while num_of_pagedowns:\n",
    "    body.send_keys(Keys.PAGE_DOWN)\n",
    "    time.sleep(2)\n",
    "    num_of_pagedowns -= 1 #video페이지의 스크롤을 충분히 밑으로 내려놓고"
   ]
  },
  {
   "cell_type": "code",
   "execution_count": null,
   "metadata": {},
   "outputs": [],
   "source": []
  },
  {
   "cell_type": "code",
   "execution_count": 8,
   "metadata": {},
   "outputs": [
    {
     "name": "stdout",
     "output_type": "stream",
     "text": [
      "video_list2의 길이: 294\n"
     ]
    }
   ],
   "source": [
    "html0 = browser.page_source\n",
    "html = BeautifulSoup(html0, 'html.parser')\n",
    "video_list2 = html.select('div #dismissable')\n",
    "\n",
    "youtube_url = 'http://www.youtube.com'\n",
    "\n",
    "park_url = []\n",
    "\n",
    "print(\"video_list2의 길이:\",len(video_list2))\n",
    "for i in range(len(video_list2)):\n",
    "    url = youtube_url + video_list2[i].find('a',{'id': 'thumbnail'})['href']\n",
    "    park_url.append(url) # 모든 영상의 url을 youtube_url에 붙여서 완전한 url로 만들고 park_url이라는 리스트에 넣어줌\n",
    "    \n"
   ]
  },
  {
   "cell_type": "code",
   "execution_count": 13,
   "metadata": {},
   "outputs": [
    {
     "data": {
      "text/plain": [
       "'8:16'"
      ]
     },
     "execution_count": 13,
     "metadata": {},
     "output_type": "execute_result"
    }
   ],
   "source": [
    "length = video_list2[0].select_one(\"ytd-thumbnail-overlay-time-status-renderer.ytd-thumbnail > span.style-scope\")\n",
    "length.text.replace(\"\\n\",\"\").strip()"
   ]
  },
  {
   "cell_type": "code",
   "execution_count": null,
   "metadata": {},
   "outputs": [],
   "source": [
    "for video in video_list2:\n",
    "    video_length = video."
   ]
  },
  {
   "cell_type": "code",
   "execution_count": 9,
   "metadata": {
    "scrolled": true
   },
   "outputs": [
    {
     "name": "stdout",
     "output_type": "stream",
     "text": [
      "0 . 썸네일 https://i.ytimg.com/vi/1LW33ylk8wM/hqdefault.jpg?sqp=-oaymwEZCPYBEIoBSFXyq4qpAwsIARUAAIhCGAFwAQ==&rs=AOn4CLCwP3dNMb6r70zfcTicXX27wI4ngw 제목: \n",
      "박막례 간장게장 만들기 [박막례 할머니]\n",
      " 카테고리 코미디 조회수 조회수 611,615회 좋아요수 1.9만개 싫어요수 223개 영상길이 0:30 게시일 2020. 1. 5.\n",
      "1 . 썸네일 https://i.ytimg.com/vi/1LW33ylk8wM/hqdefault.jpg?sqp=-oaymwEZCPYBEIoBSFXyq4qpAwsIARUAAIhCGAFwAQ==&rs=AOn4CLCwP3dNMb6r70zfcTicXX27wI4ngw 제목: \n",
      "박막례 간장게장 만들기 [박막례 할머니]\n",
      " 카테고리 코미디 조회수 조회수 611,615회 좋아요수 1.9만개 싫어요수 223개 영상길이 0:30 게시일 2020. 1. 5.\n",
      "2 . 썸네일 https://i.ytimg.com/vi/BnmL_KbnStE/hqdefault.jpg?sqp=-oaymwEZCPYBEIoBSFXyq4qpAwsIARUAAIhCGAFwAQ==&rs=AOn4CLAuyW3rP1q6-YqWdOQ_KphG9WG_4A 제목: \n",
      "핫팩 사세요~ 호~ HOT핫HOT핫팩이 왔어요~❤️ [박막례 할머니]\n",
      " 카테고리 코미디 조회수 조회수 126,291회 좋아요수 7.4천개 싫어요수 31개 영상길이 2:00 게시일 2020. 1. 3.\n",
      "3 . 썸네일 https://i.ytimg.com/vi/u2pT_d0gZbQ/hqdefault.jpg?sqp=-oaymwEZCPYBEIoBSFXyq4qpAwsIARUAAIhCGAFwAQ==&rs=AOn4CLDKmBmFQJ0c47ZVIMhs7456K-V4cA 제목: \n",
      "핫이슈 예능인상 시상을 하러 나온 셀럽 박막례, 개그맨 문세윤 [2019 KBS 연예대상] 20191221\n",
      " 카테고리 엔터테인먼트 조회수 조회수 119,296회 좋아요수 1.4천개 싫어요수 27개 영상길이 0:42 게시일 2019. 12. 21.\n",
      "4 . 썸네일 https://i.ytimg.com/vi/95aKMNgiwu4/hqdefault.jpg?sqp=-oaymwEZCPYBEIoBSFXyq4qpAwsIARUAAIhCGAFwAQ==&rs=AOn4CLClwCN4L7WpBzKnNs0ljyEodU0oSQ 제목: \n",
      "(Eng)유난히 내성적이었던(?) 과거사진 털기 [박막례 할머니]\n",
      " 카테고리 코미디 조회수 조회수 1,165,903회 좋아요수 2.7만개 싫어요수 197개 영상길이 6:31 게시일 2019. 2. 3.\n",
      "5 . 썸네일 https://i.ytimg.com/vi/V2fTwX26jrs/hqdefault.jpg?sqp=-oaymwEZCPYBEIoBSFXyq4qpAwsIARUAAIhCGAFwAQ==&rs=AOn4CLCx31LVEcS5NH75XXjrw-VDmdjsPw 제목: \n",
      "(Eng)욕했던 연예인을 눈 앞에서 만났을 때 [박막례 할머니]\n",
      " 카테고리 코미디 조회수 조회수 3,620,075회 좋아요수 7.2만개 싫어요수 941개 영상길이 12:29 게시일 2019. 2. 22.\n",
      "6 . 썸네일 https://i.ytimg.com/vi/thw54v0v12Y/hqdefault.jpg?sqp=-oaymwEZCPYBEIoBSFXyq4qpAwsIARUAAIhCGAFwAQ==&rs=AOn4CLBfMgvsOmvGa1QweKjY9T3tChKRhQ 제목: \n",
      "(Eng)최신곡 들리는대로 부르기ㅋㅋㅋㅋㅋㅋㅋㅋ [박막례 할머니]\n",
      " 카테고리 코미디 조회수 조회수 1,260,095회 좋아요수 3.2만개 싫어요수 536개 영상길이 8:51 게시일 2019. 5. 3.\n",
      "7 . 썸네일 https://i.ytimg.com/vi/d-CAU2SABGA/hqdefault.jpg?sqp=-oaymwEZCPYBEIoBSFXyq4qpAwsIARUAAIhCGAFwAQ==&rs=AOn4CLCq0GcyNY4Jf8WyKMfIL6KJ8xRjag 제목: \n",
      "(Eng)공효진에게 연애 조언, 코디 조언 [박막례 할머니]\n",
      " 카테고리 코미디 조회수 조회수 830,790회 좋아요수 2.2만개 싫어요수 162개 영상길이 0:15 게시일 2019. 9. 16.\n",
      "8 . 썸네일 https://i.ytimg.com/vi/SaivWFlM2kw/hqdefault.jpg?sqp=-oaymwEZCPYBEIoBSFXyq4qpAwsIARUAAIhCGAFwAQ==&rs=AOn4CLBBXz-JE8YcU8Hy4_wgPOYLMrBfIg 제목: \n",
      "박막례 할머니께서 손수 간장국수 해주심..먹짱혁수 생일바뀜ㅠㅠ\n",
      " 카테고리 엔터테인먼트 조회수 조회수 560,490회 좋아요수 1.6만개 싫어요수 162개 영상길이 0:30 게시일 2019. 6. 28.\n",
      "9 . 썸네일 https://i.ytimg.com/vi/xsa4oLwxgvc/hqdefault.jpg?sqp=-oaymwEZCPYBEIoBSFXyq4qpAwsIARUAAIhCGAFwAQ==&rs=AOn4CLAitWUQJkT6pZEYtuh450alwe3xBQ 제목: \n",
      "(Eng)니가 후라시?? 아뇨 크러쉬..... [박막례 할머니]\n",
      " 카테고리 코미디 조회수 조회수 1,201,973회 좋아요수 3.2만개 싫어요수 248개 영상길이 0:30 게시일 2019. 5. 31.\n"
     ]
    },
    {
     "ename": "KeyError",
     "evalue": "'src'",
     "output_type": "error",
     "traceback": [
      "\u001b[1;31m---------------------------------------------------------------------------\u001b[0m",
      "\u001b[1;31mKeyError\u001b[0m                                  Traceback (most recent call last)",
      "\u001b[1;32m<ipython-input-9-c3c97dfd5751>\u001b[0m in \u001b[0;36m<module>\u001b[1;34m\u001b[0m\n\u001b[0;32m     13\u001b[0m \u001b[1;32mfor\u001b[0m \u001b[0mi\u001b[0m \u001b[1;32min\u001b[0m \u001b[0mrange\u001b[0m\u001b[1;33m(\u001b[0m\u001b[1;36m0\u001b[0m\u001b[1;33m,\u001b[0m \u001b[1;36m20\u001b[0m\u001b[1;33m)\u001b[0m\u001b[1;33m:\u001b[0m\u001b[1;33m\u001b[0m\u001b[1;33m\u001b[0m\u001b[0m\n\u001b[0;32m     14\u001b[0m     \u001b[1;31m#여기까지는 video페이지에서 수집할 수 있는 썸네일, 제목을 가져온다.\u001b[0m\u001b[1;33m\u001b[0m\u001b[1;33m\u001b[0m\u001b[1;33m\u001b[0m\u001b[0m\n\u001b[1;32m---> 15\u001b[1;33m     \u001b[0mthumbnail\u001b[0m \u001b[1;33m=\u001b[0m \u001b[0mvideo_list2\u001b[0m\u001b[1;33m[\u001b[0m\u001b[0mi\u001b[0m\u001b[1;33m]\u001b[0m\u001b[1;33m.\u001b[0m\u001b[0mfind\u001b[0m\u001b[1;33m(\u001b[0m\u001b[1;34m'a'\u001b[0m\u001b[1;33m,\u001b[0m\u001b[1;33m{\u001b[0m\u001b[1;34m'id'\u001b[0m\u001b[1;33m:\u001b[0m\u001b[1;34m'thumbnail'\u001b[0m\u001b[1;33m}\u001b[0m\u001b[1;33m)\u001b[0m\u001b[1;33m.\u001b[0m\u001b[0mfind\u001b[0m\u001b[1;33m(\u001b[0m\u001b[1;34m'img'\u001b[0m\u001b[1;33m)\u001b[0m\u001b[1;33m[\u001b[0m\u001b[1;34m'src'\u001b[0m\u001b[1;33m]\u001b[0m \u001b[1;31m# 그 하위의 img라는 태그를 또 찾고 거기서 src가져와라 # 1\u001b[0m\u001b[1;33m\u001b[0m\u001b[1;33m\u001b[0m\u001b[0m\n\u001b[0m\u001b[0;32m     16\u001b[0m     \u001b[0mtitle\u001b[0m \u001b[1;33m=\u001b[0m \u001b[0mvideo_list2\u001b[0m\u001b[1;33m[\u001b[0m\u001b[0mi\u001b[0m\u001b[1;33m]\u001b[0m\u001b[1;33m.\u001b[0m\u001b[0mfind\u001b[0m\u001b[1;33m(\u001b[0m\u001b[1;34m'a'\u001b[0m\u001b[1;33m,\u001b[0m\u001b[1;33m{\u001b[0m\u001b[1;34m'id'\u001b[0m\u001b[1;33m:\u001b[0m\u001b[1;34m'video-title'\u001b[0m\u001b[1;33m}\u001b[0m\u001b[1;33m)\u001b[0m\u001b[1;33m.\u001b[0m\u001b[0mtext\u001b[0m \u001b[1;31m# 2\u001b[0m\u001b[1;33m\u001b[0m\u001b[1;33m\u001b[0m\u001b[0m\n\u001b[0;32m     17\u001b[0m \u001b[1;33m\u001b[0m\u001b[0m\n",
      "\u001b[1;32mC:\\ProgramData\\Anaconda3\\lib\\site-packages\\bs4\\element.py\u001b[0m in \u001b[0;36m__getitem__\u001b[1;34m(self, key)\u001b[0m\n\u001b[0;32m   1014\u001b[0m         \"\"\"tag[key] returns the value of the 'key' attribute for the tag,\n\u001b[0;32m   1015\u001b[0m         and throws an exception if it's not there.\"\"\"\n\u001b[1;32m-> 1016\u001b[1;33m         \u001b[1;32mreturn\u001b[0m \u001b[0mself\u001b[0m\u001b[1;33m.\u001b[0m\u001b[0mattrs\u001b[0m\u001b[1;33m[\u001b[0m\u001b[0mkey\u001b[0m\u001b[1;33m]\u001b[0m\u001b[1;33m\u001b[0m\u001b[1;33m\u001b[0m\u001b[0m\n\u001b[0m\u001b[0;32m   1017\u001b[0m \u001b[1;33m\u001b[0m\u001b[0m\n\u001b[0;32m   1018\u001b[0m     \u001b[1;32mdef\u001b[0m \u001b[0m__iter__\u001b[0m\u001b[1;33m(\u001b[0m\u001b[0mself\u001b[0m\u001b[1;33m)\u001b[0m\u001b[1;33m:\u001b[0m\u001b[1;33m\u001b[0m\u001b[1;33m\u001b[0m\u001b[0m\n",
      "\u001b[1;31mKeyError\u001b[0m: 'src'"
     ]
    }
   ],
   "source": [
    "# 현재로서는 썸네일, 유형, 동영상 게시일, 영상길이, 제목, 조회수, 좋아요, 싫어요, 만 크롤링 하면 될듯!\n",
    "\n",
    "# park = pd.DataFrame({'thumbnail': [],\n",
    "#                      'title' : [],\n",
    "#                      'category': [],\n",
    "#                      'view_count': [],\n",
    "#                      'likes_count': [],\n",
    "#                      'dislikes_count':[],\n",
    "#                      'video_length':[],\n",
    "#                      'upload_date': [],\n",
    "#                      }) #총 8개의 정보\n",
    "\n",
    "for i in range(0, 20):\n",
    "    #여기까지는 video페이지에서 수집할 수 있는 썸네일, 제목을 가져온다.\n",
    "    thumbnail = video_list2[i].find('a',{'id':'thumbnail'}).find('img')['src'] # 그 하위의 img라는 태그를 또 찾고 거기서 src가져와라 # 1\n",
    "    title = video_list2[i].find('a',{'id':'video-title'}).text # 2 \n",
    "    \n",
    "    # 여기서부터 영상 클릭해서 들어간 페이지\n",
    "    click_url = park_url[i]\n",
    "    browser.get(click_url)\n",
    "    time.sleep(1.5) # 페이지를 넘어가야하므로 로딩을 기다려야함\n",
    "    # body = browser.find_element_by_tag_name('body')\n",
    "    browser.find_element_by_xpath(\"//*[@id='more']/yt-formatted-string\").click() # 카테고리를 크롤링 하기 위해서 더보기를 눌러주자\n",
    "    time.sleep(3)\n",
    "    html0 = browser.page_source\n",
    "    html = BeautifulSoup(html0, 'html.parser')\n",
    "   \n",
    "    # 여기서는 카테고리, 조회수, 좋아요, 싫어요, 영상길이, 동영상 게시일을 크롤링한다 \n",
    "    category = html.find('div', {'id':'collapsible'}).find('a',{'class':'yt-simple-endpoint'}).text\n",
    "    view_count = html.find('span', {'class': 'view-count'}).text # 4\n",
    "    \n",
    "    # 좋아요와 싫어요는 완전히 똑같은 태그에 들어있다.\n",
    "    # <파이썬 정규 표현식을 지원하는 >re모듈을 사용해보자\n",
    "    likes_count = html.find('yt-formatted-string', {'id':'text', 'class':'style-scope ytd-toggle-button-renderer style-text', # 5\n",
    "    'aria-label':re.compile('좋아요')}).text+'개'\n",
    "    dislikes_count = html.find('yt-formatted-string', {'id':'text', 'class':'style-scope ytd-toggle-button-renderer style-text', # 6\n",
    "    'aria-label':re.compile('싫어요')}).text+'개'\n",
    "    \n",
    "    #video_length = html.find('span', {'class': 'ytp-time-duration'}).text # 7\n",
    "    \n",
    "    upload_date = html.find('div',{'id':'date'}).find('yt-formatted-string').text # 8\n",
    "    \n",
    "    print(i,\".\",\"썸네일\", thumbnail, \"제목:\", title, \"카테고리\",category,\"조회수\",view_count,\"좋아요수\",likes_count, \"싫어요수\",dislikes_count, \"영상길이\", video_length, \"게시일\", upload_date)\n",
    "#     # 크롤링한 정보 저장  \n",
    "#     insert_data = pd.DataFrame({\n",
    "#                         'thumbnail': [thumbnail],\n",
    "#                         'title' : [title],\n",
    "#                         'category': [category],\n",
    "#                         'view_count': [view_count],\n",
    "#                         'likes_count': [likes_count],\n",
    "#                         'dislikes_count':[dislikes_count],\n",
    "#                         'video_length':[video_length],\n",
    "#                         'upload_date': [upload_date],\n",
    "#                         }) \n",
    "\n",
    "#     park = park.append(insert_data)\n",
    "# park.index = range(len(park))"
   ]
  },
  {
   "cell_type": "code",
   "execution_count": null,
   "metadata": {},
   "outputs": [],
   "source": [
    "pip in"
   ]
  }
 ],
 "metadata": {
  "kernelspec": {
   "display_name": "Python 3",
   "language": "python",
   "name": "python3"
  },
  "language_info": {
   "codemirror_mode": {
    "name": "ipython",
    "version": 3
   },
   "file_extension": ".py",
   "mimetype": "text/x-python",
   "name": "python",
   "nbconvert_exporter": "python",
   "pygments_lexer": "ipython3",
   "version": "3.7.3"
  }
 },
 "nbformat": 4,
 "nbformat_minor": 2
}
