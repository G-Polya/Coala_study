{
 "cells": [
  {
   "cell_type": "code",
   "execution_count": 1,
   "metadata": {},
   "outputs": [
    {
     "name": "stdout",
     "output_type": "stream",
     "text": [
      "82개이하 59\n",
      "82개이하 61\n"
     ]
    },
    {
     "name": "stderr",
     "output_type": "stream",
     "text": [
      "C:\\ProgramData\\Anaconda3\\lib\\site-packages\\ipykernel_launcher.py:27: SettingWithCopyWarning: \n",
      "A value is trying to be set on a copy of a slice from a DataFrame.\n",
      "Try using .loc[row_indexer,col_indexer] = value instead\n",
      "\n",
      "See the caveats in the documentation: http://pandas.pydata.org/pandas-docs/stable/indexing.html#indexing-view-versus-copy\n"
     ]
    }
   ],
   "source": [
    "import pandas as pd\n",
    "from datetime import datetime\n",
    "file_name = [\"슛뚜\",\"온도\"]\n",
    "for file in file_name:\n",
    "    df = pd.read_excel(file+\"_작업본.xlsx\")\n",
    "    month_Six = df[df[\"upload_date\"]>datetime(2019,6,1)]\n",
    "    \n",
    "    #print(len(month_Six))\n",
    "    \n",
    "    if len(month_Six) > 82:\n",
    "        _in82 = df[df[\"upload_date\"]>datetime(2019,8,1)]\n",
    "        \n",
    "        if len(_in82) > 100:\n",
    "            _in82 =df[df[\"upload_date\"]>datetime(2019,10,1)]\n",
    "        \n",
    "        print(\"82개이상\",len(_in82))\n",
    "    else:\n",
    "        \n",
    "        _in82 = df[df[\"upload_date\"]>datetime(2019,1,1)]\n",
    "        \n",
    "        if len(_in82) < 70:\n",
    "            _in82 = df[df[\"upload_date\"]>datetime(2018,11,1)]\n",
    "        \n",
    "        print(\"82개이하\",len(_in82))\n",
    "        \n",
    "    _in82.drop([\"Unnamed: 0\"], axis=\"columns\")\n",
    "    _in82[\"youtuber_name\"] = file\n",
    "    _in82.to_excel(file+\"6개월이내.xlsx\")\n",
    "        "
   ]
  },
  {
   "cell_type": "code",
   "execution_count": 4,
   "metadata": {},
   "outputs": [],
   "source": [
    "_in82 = _in82.drop([\"Unnamed: 0\"],axis = \"columns\")"
   ]
  },
  {
   "cell_type": "code",
   "execution_count": 6,
   "metadata": {},
   "outputs": [],
   "source": [
    "_in82.to_excel(file+\"6개월이내.xlsx\")"
   ]
  },
  {
   "cell_type": "code",
   "execution_count": null,
   "metadata": {},
   "outputs": [],
   "source": []
  }
 ],
 "metadata": {
  "kernelspec": {
   "display_name": "Python 3",
   "language": "python",
   "name": "python3"
  },
  "language_info": {
   "codemirror_mode": {
    "name": "ipython",
    "version": 3
   },
   "file_extension": ".py",
   "mimetype": "text/x-python",
   "name": "python",
   "nbconvert_exporter": "python",
   "pygments_lexer": "ipython3",
   "version": "3.7.3"
  }
 },
 "nbformat": 4,
 "nbformat_minor": 2
}
