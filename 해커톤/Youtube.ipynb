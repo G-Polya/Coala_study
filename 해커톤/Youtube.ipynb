{
 "cells": [
  {
   "cell_type": "code",
   "execution_count": 12,
   "metadata": {},
   "outputs": [],
   "source": [
    "from selenium import webdriver\n",
    "\n",
    "driver = webdriver.Chrome(\"chromedriver\")\n",
    "\n",
    "youtuber_name = \"haha ha\"\n",
    "\n",
    "driver.get(\"https://www.youtube.com/\")\n",
    "\n",
    "search_box = driver.find_element_by_css_selector(\"input#search\")\n",
    "search_box.send_keys(youtuber_name)\n",
    "\n",
    "search_button = driver.find_element_by_css_selector(\"button#search-icon-legacy\")\n",
    "search_button.click()\n",
    "driver.implicitly_wait(3)"
   ]
  },
  {
   "cell_type": "code",
   "execution_count": 13,
   "metadata": {},
   "outputs": [],
   "source": [
    "youtuber_box = driver.find_element_by_css_selector(\"a#main-link\")\n",
    "youtuber_box.click()\n"
   ]
  },
  {
   "cell_type": "code",
   "execution_count": 20,
   "metadata": {},
   "outputs": [
    {
     "data": {
      "text/plain": [
       "49.7"
      ]
     },
     "execution_count": 20,
     "metadata": {},
     "output_type": "execute_result"
    }
   ],
   "source": [
    "# 구독자수\n",
    "numOfsubscribers = float(driver.find_element_by_css_selector(\"yt-formatted-string#subscriber-count\").text[-6:-2])\n",
    "numOfsubscribers"
   ]
  },
  {
   "cell_type": "code",
   "execution_count": 21,
   "metadata": {},
   "outputs": [],
   "source": [
    "youtuber_information = driver.find_elements_by_css_selector(\"paper-tab.style-scope\")[5]\n",
    "youtuber_information.click()"
   ]
  },
  {
   "cell_type": "code",
   "execution_count": 22,
   "metadata": {},
   "outputs": [
    {
     "data": {
      "text/plain": [
       "'가입일: 2015. 10. 12.'"
      ]
     },
     "execution_count": 22,
     "metadata": {},
     "output_type": "execute_result"
    }
   ],
   "source": [
    "# 가입일\n",
    "enrolled_date = driver.find_elements_by_css_selector(\"yt-formatted-string.style-scope.ytd-channel-about-metadata-renderer\")[-2].text\n",
    "enrolled_date"
   ]
  },
  {
   "cell_type": "code",
   "execution_count": 31,
   "metadata": {},
   "outputs": [],
   "source": [
    "# 먼저 가장 처음 두개의 동영상에 대해서 업로드날짜의 차이를 구해보자\n",
    "youtuber_videos = driver.find_elements_by_css_selector(\"paper-tab.style-scope\")[1]\n",
    "youtuber_videos.click()\n",
    "\n",
    "youtuber_videos = driver.find_elements_by_css_selector(\"div.style-scope ytd-grid-video-renderer\")\n",
    "youtuber_videos[0].click()\n",
    "\n"
   ]
  },
  {
   "cell_type": "code",
   "execution_count": 39,
   "metadata": {},
   "outputs": [
    {
     "data": {
      "text/plain": [
       "213178"
      ]
     },
     "execution_count": 39,
     "metadata": {},
     "output_type": "execute_result"
    }
   ],
   "source": [
    "view = driver.find_element_by_css_selector(\"span.view-count\").text[-8:-1]\n",
    "view = int(view.replace(\",\",\"\"))\n",
    "view"
   ]
  },
  {
   "cell_type": "code",
   "execution_count": 44,
   "metadata": {},
   "outputs": [
    {
     "data": {
      "text/plain": [
       "['2020', '1', '4', '']"
      ]
     },
     "execution_count": 44,
     "metadata": {},
     "output_type": "execute_result"
    }
   ],
   "source": [
    "upload_date = driver.find_elements_by_css_selector(\"yt-formatted-string.style-scope.ytd-video-primary-info-renderer\")[-1].text\n",
    "upload_date = upload_date.replace(\" \",\"\")\n",
    "upload_date = upload_date.split(\".\")\n",
    "upload_date"
   ]
  },
  {
   "cell_type": "code",
   "execution_count": null,
   "metadata": {},
   "outputs": [],
   "source": [
    "div.style-scope ytd-grid-video-renderer"
   ]
  },
  {
   "cell_type": "code",
   "execution_count": 11,
   "metadata": {},
   "outputs": [],
   "source": [
    "# 100개의 동영상에 대해서\n",
    "# 동영상 간의 업로드 날짜를 구해서\n",
    "# 이전 동영상과 다음동영상의 차이를 구하면 그것이 곧 업로드 주기\n",
    "# 이 업로드 주기의 평균을 구해라\n",
    "\n"
   ]
  },
  {
   "cell_type": "code",
   "execution_count": null,
   "metadata": {},
   "outputs": [],
   "source": [
    "# 100개의 동영상에 대해서\n",
    "# 동영상의 조회수를 구해서\n",
    "# 조회수의 평균을 구하기\n"
   ]
  }
 ],
 "metadata": {
  "kernelspec": {
   "display_name": "Python 3",
   "language": "python",
   "name": "python3"
  },
  "language_info": {
   "codemirror_mode": {
    "name": "ipython",
    "version": 3
   },
   "file_extension": ".py",
   "mimetype": "text/x-python",
   "name": "python",
   "nbconvert_exporter": "python",
   "pygments_lexer": "ipython3",
   "version": "3.7.3"
  }
 },
 "nbformat": 4,
 "nbformat_minor": 2
}
