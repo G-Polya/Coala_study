{
 "cells": [
  {
   "cell_type": "code",
   "execution_count": 2,
   "metadata": {},
   "outputs": [],
   "source": [
    "import requests\n",
    "from bs4 import BeautifulSoup\n",
    "import time\n",
    "from selenium.webdriver import Chrome\n",
    "import re\n",
    "from selenium.webdriver.chrome.options import Options\n",
    "from selenium.webdriver.common.keys import Keys\n",
    "import datetime as dt\n",
    "\n",
    "delay = 3\n",
    "browser = Chrome(\"./chromedriver\")\n",
    "browser.implicitly_wait(delay)\n",
    "browser.get(\"https://www.youtube.com/channel/UCN8CPzwkYiDVLZlgD4JQgJQ/videos\") # 박막례할머니 동영상 페이지로 들어감\n",
    "browser.maximize_window()\n",
    "body = browser.find_element_by_tag_name('body') # body태그 가져오기\n",
    "\n",
    "num_of_pagedowns = 22\n",
    "while num_of_pagedowns:\n",
    "    body.send_keys(Keys.PAGE_DOWN)\n",
    "    time.sleep(2)\n",
    "    num_of_pagedowns -= 1 #video페이지의 스크롤을 충분히 밑으로 내려놓고"
   ]
  },
  {
   "cell_type": "code",
   "execution_count": 3,
   "metadata": {},
   "outputs": [
    {
     "name": "stdout",
     "output_type": "stream",
     "text": [
      "video_list2의 길이: 272\n"
     ]
    }
   ],
   "source": [
    "html0 = browser.page_source\n",
    "html = BeautifulSoup(html0, 'html.parser')\n",
    "video_list2 = html.select('div #dismissable')\n",
    "\n",
    "youtube_url = 'http://www.youtube.com'\n",
    "\n",
    "park_url = []\n",
    "\n",
    "print(\"video_list2의 길이:\",len(video_list2))\n",
    "for i in range(len(video_list2)):\n",
    "    url = youtube_url + video_list2[i].find('a',{'id': 'thumbnail'})['href']\n",
    "    park_url.append(url) # 모든 영상의 url을 youtube_url에 붙여서 완전한 url로 만들고 park_url이라는 리스트에 넣어줌"
   ]
  },
  {
   "cell_type": "code",
   "execution_count": 4,
   "metadata": {
    "scrolled": true
   },
   "outputs": [
    {
     "name": "stdout",
     "output_type": "stream",
     "text": [
      "0 . 썸네일 https://i.ytimg.com/vi/1LW33ylk8wM/hqdefault.jpg?sqp=-oaymwEZCNACELwBSFXyq4qpAwsIARUAAIhCGAFwAQ==&rs=AOn4CLAKMobJzYv2PTYQsoZ6vJKWonw7lg 제목: 박막례 간장게장 만들기 [박막례 할머니] 카테고리 코미디 조회수 조회수 611,297회 좋아요수 1.9만개 싫어요수 223개 영상길이 0:30 게시일 2020. 1. 5.\n",
      "1 . 썸네일 https://i.ytimg.com/vi/BnmL_KbnStE/hqdefault.jpg?sqp=-oaymwEZCNACELwBSFXyq4qpAwsIARUAAIhCGAFwAQ==&rs=AOn4CLAtKUvlAfw_Tr8TbtOVezuPGN3qyg 제목: 핫팩 사세요~ 호~ HOT핫HOT핫팩이 왔어요~❤️ [박막례 할머니] 카테고리 코미디 조회수 조회수 126,251회 좋아요수 7.4천개 싫어요수 31개 영상길이 0:15 게시일 2020. 1. 3.\n",
      "2 . 썸네일 https://i.ytimg.com/vi/nbQQauKcHmk/hqdefault.jpg?sqp=-oaymwEZCNACELwBSFXyq4qpAwsIARUAAIhCGAFwAQ==&rs=AOn4CLDVsZI6akM_iSkowKHTchRmfaME5w 제목: 그 연예대상 시상식 브이로그!!!  [박막례 할머니] 카테고리 코미디 조회수 조회수 538,250회 좋아요수 2.4만개 싫어요수 141개 영상길이 0:30 게시일 2019. 12. 29.\n",
      "3 . 썸네일 https://i.ytimg.com/vi/NrTC1wqiGVQ/hqdefault.jpg?sqp=-oaymwEZCNACELwBSFXyq4qpAwsIARUAAIhCGAFwAQ==&rs=AOn4CLAyCTp96M5hXLjXPM_UbJUCUw2xpQ 제목: 크리스마스 홈파티 인 파리 [박막례 할머니] 카테고리 코미디 조회수 조회수 246,574회 좋아요수 1만개 싫어요수 73개 영상길이 7:37 게시일 2019. 12. 24.\n",
      "4 . 썸네일 https://i.ytimg.com/vi/8UjKbZQHCBE/hqdefault.jpg?sqp=-oaymwEZCNACELwBSFXyq4qpAwsIARUAAIhCGAFwAQ==&rs=AOn4CLBFRJRgXiPVNaPVNkHxmn9PtfIdew 제목: (Eng)장성규, 장동윤 보고 온 썰ㅋㅋ (수영고모 화남) [박막례 할머니] 카테고리 코미디 조회수 조회수 239,210회 좋아요수 8.7천개 싫어요수 55개 영상길이 0:15 게시일 2019. 12. 20.\n",
      "5 . 썸네일 https://i.ytimg.com/vi/W_p_IcrgykM/hqdefault.jpg?sqp=-oaymwEZCNACELwBSFXyq4qpAwsIARUAAIhCGAFwAQ==&rs=AOn4CLDqwAYzz0ZEswfbVXK34N0HTJzMJg 제목: (Eng)앙리와 우정테스트 [박막례 할머니] 카테고리 코미디 조회수 조회수 286,375회 좋아요수 9.4천개 싫어요수 78개 영상길이 0:30 게시일 2019. 12. 18.\n",
      "6 . 썸네일 https://i.ytimg.com/vi/E84VukdjwSk/hqdefault.jpg?sqp=-oaymwEZCNACELwBSFXyq4qpAwsIARUAAIhCGAFwAQ==&rs=AOn4CLBXQsP0qSclKa68BxL1_OZ86DwESQ 제목: (Eng)손녀에게 병주고 약주기 (크리스마스 선물) [박막례 할머니] 카테고리 코미디 조회수 조회수 367,722회 좋아요수 1.3만개 싫어요수 151개 영상길이 6:55 게시일 2019. 12. 14.\n",
      "7 . 썸네일 https://i.ytimg.com/vi/tusq5S3j190/hqdefault.jpg?sqp=-oaymwEZCNACELwBSFXyq4qpAwsIARUAAIhCGAFwAQ==&rs=AOn4CLB0qtCEhXbMcuiGOueIbcmb1J2r_g 제목: (Eng) 수영고모 쌈밥집에 장고래 왔다간 썰ㅋㅋㅋㅋ [박막례 할머니] 카테고리 코미디 조회수 조회수 416,656회 좋아요수 1.5만개 싫어요수 84개 영상길이 0:31 게시일 2019. 12. 10.\n",
      "8 . 썸네일 https://i.ytimg.com/vi/RvvQSSYh7_s/hqdefault.jpg?sqp=-oaymwEZCNACELwBSFXyq4qpAwsIARUAAIhCGAFwAQ==&rs=AOn4CLB0jpJ4npkXycfqb-Vdf33yxUt0kw 제목: (Eng)와플기계로 감자전 만들기 [박막례 할머니] 카테고리 코미디 조회수 조회수 831,897회 좋아요수 2.3만개 싫어요수 217개 영상길이 7:38 게시일 2019. 12. 5.\n",
      "9 . 썸네일 https://i.ytimg.com/vi/xOwzLidnG8Q/hqdefault.jpg?sqp=-oaymwEZCNACELwBSFXyq4qpAwsIARUAAIhCGAFwAQ==&rs=AOn4CLCJFkmrZgUWyxIfFZwNnkxzA1wi6w 제목: (Eng)박막례 심즈처럼 살기 [박막례 할머니] 카테고리 코미디 조회수 조회수 363,478회 좋아요수 1.7만개 싫어요수 75개 영상길이 3:01 게시일 2019. 12. 1.\n",
      "10 . 썸네일 https://i.ytimg.com/vi/NUWPHvPF5CA/hqdefault.jpg?sqp=-oaymwEZCNACELwBSFXyq4qpAwsIARUAAIhCGAFwAQ==&rs=AOn4CLD61nWip5l_xQVUmCJkjyd8jNDS1Q 제목: (Eng)영국까지 날아간 간장국수  (feat. 러쉬 창업자 로웨나) [박막례 할머니] 카테고리 코미디 조회수 조회수 420,941회 좋아요수 1.5만개 싫어요수 101개 영상길이 0:15 게시일 2019. 11. 26.\n",
      "11 . 썸네일 https://i.ytimg.com/vi/qwuTe9Lo7Yo/hqdefault.jpg?sqp=-oaymwEZCNACELwBSFXyq4qpAwsIARUAAIhCGAFwAQ==&rs=AOn4CLCIA57b_Cggg7y2XnaHeHtIeh7fiQ 제목: (Eng) 명란에 미쳐버린 막례네 식탁! [박막례 할머니] 카테고리 코미디 조회수 조회수 837,979회 좋아요수 1.9만개 싫어요수 314개 영상길이 6:19 게시일 2019. 11. 21.\n",
      "12 . 썸네일 https://i.ytimg.com/vi/iAk02300WE4/hqdefault.jpg?sqp=-oaymwEZCPYBEIoBSFXyq4qpAwsIARUAAIhCGAFwAQ==&rs=AOn4CLDuqlpUmHt4hfleCsi9_15rbg_BBA 제목: (Eng) 막례를 울린 남자 [박막례 할머니] 카테고리 코미디 조회수 조회수 325,972회 좋아요수 1.2만개 싫어요수 69개 영상길이 9:47 게시일 2019. 11. 20.\n",
      "13 . 썸네일 https://i.ytimg.com/vi/x2rm7WHqaxs/hqdefault.jpg?sqp=-oaymwEZCPYBEIoBSFXyq4qpAwsIARUAAIhCGAFwAQ==&rs=AOn4CLCcOWvzTrMGEhlHrOWy1K6rmB2CXQ 제목: (Eng)손녀랑 게임하다가 몸싸움ㅋㅋㅋㅋ [박막례 할머니] 카테고리 코미디 조회수 조회수 289,002회 좋아요수 8.4천개 싫어요수 115개 영상길이 0:56 게시일 2019. 11. 18.\n",
      "14 . 썸네일 https://i.ytimg.com/vi/yNDfDC9p7Jk/hqdefault.jpg?sqp=-oaymwEZCPYBEIoBSFXyq4qpAwsIARUAAIhCGAFwAQ==&rs=AOn4CLBecSKQWeP04Cc26HjauDPwzHIJrA 제목: (Eng)좋은 사람 있으면 소개시켜줘 [박막례 할머니] 카테고리 코미디 조회수 조회수 163,776회 좋아요수 8.3천개 싫어요수 31개 영상길이 0:37 게시일 2019. 11. 12.\n",
      "15 . 썸네일 https://i.ytimg.com/vi/ufonc5dy6tU/hqdefault.jpg?sqp=-oaymwEZCPYBEIoBSFXyq4qpAwsIARUAAIhCGAFwAQ==&rs=AOn4CLCyw2e1jBdFOmeU9aEqEMycTBW4Qw 제목: (Eng)딸한테 초상화 그려주고 싸움ㅋㅋㅋㅋㅋㅋ [박막례 할머니] 카테고리 코미디 조회수 조회수 426,351회 좋아요수 1.2만개 싫어요수 114개 영상길이 5:57 게시일 2019. 11. 8.\n",
      "16 . 썸네일 https://i.ytimg.com/vi/3W6gOV5xs4c/hqdefault.jpg?sqp=-oaymwEZCPYBEIoBSFXyq4qpAwsIARUAAIhCGAFwAQ==&rs=AOn4CLDMKv7mulDr_g2gvWwFCUX3u5M7YQ 제목: (Eng)그거 그거!! 목 아플때 엄마가 해주던 그거! [박막례 할머니] 카테고리 코미디 조회수 조회수 1,101,585회 좋아요수 2.5만개 싫어요수 285개 영상길이 6:20 게시일 2019. 11. 5.\n",
      "17 . 썸네일 https://i.ytimg.com/vi/Lh2-rlUu2Ns/hqdefault.jpg?sqp=-oaymwEZCPYBEIoBSFXyq4qpAwsIARUAAIhCGAFwAQ==&rs=AOn4CLCGxm1pTCW1Qg1EQEwXZIFO9eiMFw 제목: (Eng)유재석 인생샷 따라하기 [박막례 할머니] 카테고리 코미디 조회수 조회수 139,386회 좋아요수 5.1천개 싫어요수 34개 영상길이 3:21 게시일 2019. 11. 3.\n",
      "18 . 썸네일 https://i.ytimg.com/vi/12Lbizm_sgs/hqdefault.jpg?sqp=-oaymwEZCPYBEIoBSFXyq4qpAwsIARUAAIhCGAFwAQ==&rs=AOn4CLCUyAzpQQYqMz9TlMnBbset7Lyaig 제목: (Eng)발렌시아가를 누가 그렇게 신어요ㅠㅠ 30분 걸림ㅋㅋ  [박막례 할머니] 카테고리 코미디 조회수 조회수 1,038,673회 좋아요수 1.8만개 싫어요수 328개 영상길이 6:48 게시일 2019. 10. 28.\n",
      "19 . 썸네일 https://i.ytimg.com/vi/yNlbqL-m2jk/hqdefault.jpg?sqp=-oaymwEZCPYBEIoBSFXyq4qpAwsIARUAAIhCGAFwAQ==&rs=AOn4CLAtPqmRCxzIATnRdBh3bo9zXL9Oaw 제목: (Eng)박막례가 만든 조커 [박막례 할머니] 카테고리 코미디 조회수 조회수 1,038,673회 좋아요수 1.8만개 싫어요수 328개 영상길이 6:48 게시일 2019. 10. 28.\n"
     ]
    }
   ],
   "source": [
    "# 현재로서는 썸네일, 유형, 동영상 게시일, 영상길이, 제목, 조회수, 좋아요, 싫어요, 만 크롤링 하면 될듯!\n",
    "\n",
    "# park = pd.DataFrame({'thumbnail': [],\n",
    "#                      'title' : [],\n",
    "#                      'category': [],\n",
    "#                      'view_count': [],\n",
    "#                      'likes_count': [],\n",
    "#                      'dislikes_count':[],\n",
    "#                      'video_length':[],\n",
    "#                      'upload_date': [],\n",
    "#                      }) #총 8개의 정보\n",
    "\n",
    "for i in range(0, 20):\n",
    "    #여기까지는 video페이지에서 수집할 수 있는 썸네일, 제목을 가져온다.\n",
    "    thumbnail = video_list2[i].find('a',{'id':'thumbnail'}).find('img')['src'] # 그 하위의 img라는 태그를 또 찾고 거기서 src가져와라 # 1\n",
    "    title = video_list2[i].find('a',{'id':'video-title'}).text # 2 \n",
    "    \n",
    "    # 여기서부터 영상 클릭해서 들어간 페이지\n",
    "    click_url = park_url[i]\n",
    "    browser.get(click_url)\n",
    "    time.sleep(1.5) # 페이지를 넘어가야하므로 로딩을 기다려야함\n",
    "    # body = browser.find_element_by_tag_name('body')\n",
    "    browser.find_element_by_xpath(\"//*[@id='more']/yt-formatted-string\").click() # 카테고리를 크롤링 하기 위해서 더보기를 눌러주자\n",
    "    time.sleep(3)\n",
    "    html0 = browser.page_source\n",
    "    html = BeautifulSoup(html0, 'html.parser')\n",
    "   \n",
    "    # 여기서는 카테고리, 조회수, 좋아요, 싫어요, 영상길이, 동영상 게시일을 크롤링한다 \n",
    "    category = html.find('div', {'id':'collapsible'}).find('a',{'class':'yt-simple-endpoint'}).text\n",
    "    view_count = html.find('span', {'class': 'view-count'}).text # 4\n",
    "    \n",
    "    # 좋아요와 싫어요는 완전히 똑같은 태그에 들어있다.\n",
    "    # <파이썬 정규 표현식을 지원하는 >re모듈을 사용해보자\n",
    "    likes_count = html.find('yt-formatted-string', {'id':'text', 'class':'style-scope ytd-toggle-button-renderer style-text', # 5\n",
    "    'aria-label':re.compile('좋아요')}).text+'개'\n",
    "    dislikes_count = html.find('yt-formatted-string', {'id':'text', 'class':'style-scope ytd-toggle-button-renderer style-text', # 6\n",
    "    'aria-label':re.compile('싫어요')}).text+'개'\n",
    "    video_length = html.find('span', {'class': 'ytp-time-duration'}).text # 7\n",
    "    upload_date = html.find('div',{'id':'date'}).find('yt-formatted-string').text # 8\n",
    "    \n",
    "    print(i,\".\",\"썸네일\", thumbnail, \"제목:\", title, \"카테고리\",category,\"조회수\",view_count,\"좋아요수\",likes_count, \"싫어요수\",dislikes_count, \"영상길이\", video_length, \"게시일\", upload_date)\n",
    "#     # 크롤링한 정보 저장  \n",
    "#     insert_data = pd.DataFrame({\n",
    "#                         'thumbnail': [thumbnail],\n",
    "#                         'title' : [title],\n",
    "#                         'category': [category],\n",
    "#                         'view_count': [view_count],\n",
    "#                         'likes_count': [likes_count],\n",
    "#                         'dislikes_count':[dislikes_count],\n",
    "#                         'video_length':[video_length],\n",
    "#                         'upload_date': [upload_date],\n",
    "#                         }) \n",
    "\n",
    "#     park = park.append(insert_data)\n",
    "# park.index = range(len(park))"
   ]
  },
  {
   "cell_type": "code",
   "execution_count": null,
   "metadata": {},
   "outputs": [],
   "source": []
  }
 ],
 "metadata": {
  "kernelspec": {
   "display_name": "Python 3",
   "language": "python",
   "name": "python3"
  },
  "language_info": {
   "codemirror_mode": {
    "name": "ipython",
    "version": 3
   },
   "file_extension": ".py",
   "mimetype": "text/x-python",
   "name": "python",
   "nbconvert_exporter": "python",
   "pygments_lexer": "ipython3",
   "version": "3.7.3"
  }
 },
 "nbformat": 4,
 "nbformat_minor": 2
}
