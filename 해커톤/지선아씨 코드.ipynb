{
 "cells": [
  {
   "cell_type": "code",
   "execution_count": 8,
   "metadata": {},
   "outputs": [],
   "source": [
    "import requests\n",
    "from bs4 import BeautifulSoup\n",
    "import time\n",
    "from selenium.webdriver import Chrome\n",
    "import re\n",
    "from selenium.webdriver.chrome.options import Options\n",
    "from selenium.webdriver.common.keys import Keys\n",
    "import datetime as dt"
   ]
  },
  {
   "cell_type": "code",
   "execution_count": 9,
   "metadata": {},
   "outputs": [],
   "source": [
    "youtuber_name = \"박막례\""
   ]
  },
  {
   "cell_type": "code",
   "execution_count": 10,
   "metadata": {},
   "outputs": [],
   "source": [
    "delay = 3\n",
    "browser = Chrome(\"./chromedriver\")\n",
    "browser.implicitly_wait(delay)"
   ]
  },
  {
   "cell_type": "code",
   "execution_count": 11,
   "metadata": {},
   "outputs": [],
   "source": [
    "# 유튜브 켜서 검색어 입력까지\n",
    "browser.get(\"https://www.youtube.com/\")\n",
    "\n",
    "search_box = browser.find_element_by_css_selector(\"input#search\")\n",
    "search_box.send_keys(youtuber_name)\n",
    "\n",
    "search_button = browser.find_element_by_css_selector(\"button#search-icon-legacy\")\n",
    "search_button.click()\n",
    "browser.implicitly_wait(3)"
   ]
  },
  {
   "cell_type": "code",
   "execution_count": 12,
   "metadata": {},
   "outputs": [],
   "source": [
    "# 유튜버 채널로 이동\n",
    "youtuber_box = browser.find_element_by_css_selector(\"a#main-link\")\n",
    "youtuber_box.click()\n"
   ]
  },
  {
   "cell_type": "code",
   "execution_count": null,
   "metadata": {},
   "outputs": [],
   "source": []
  },
  {
   "cell_type": "code",
   "execution_count": 13,
   "metadata": {},
   "outputs": [],
   "source": [
    "# 유튜버 동영상 탭으로 이동\n",
    "browser.maximize_window()\n",
    "body = browser.find_element_by_tag_name('body') # body태그 가져오기\n",
    "\n",
    "youtuber_videos = browser.find_elements_by_css_selector(\"paper-tab.style-scope\")[1]\n",
    "youtuber_videos.click()"
   ]
  },
  {
   "cell_type": "code",
   "execution_count": 14,
   "metadata": {},
   "outputs": [],
   "source": [
    "num_of_pagedowns = 22\n",
    "while num_of_pagedowns:\n",
    "    body.send_keys(Keys.PAGE_DOWN)\n",
    "    time.sleep(2)\n",
    "    num_of_pagedowns -= 1 #video페이지의 스크롤을 충분히 밑으로 내려놓고"
   ]
  },
  {
   "cell_type": "code",
   "execution_count": null,
   "metadata": {},
   "outputs": [],
   "source": []
  },
  {
   "cell_type": "code",
   "execution_count": 15,
   "metadata": {},
   "outputs": [
    {
     "name": "stdout",
     "output_type": "stream",
     "text": [
      "video_list2의 길이: 294\n"
     ]
    }
   ],
   "source": [
    "html0 = browser.page_source\n",
    "html = BeautifulSoup(html0, 'html.parser')\n",
    "video_list2 = html.select('div #dismissable')\n",
    "\n",
    "youtube_url = 'http://www.youtube.com'\n",
    "\n",
    "park_url = []\n",
    "\n",
    "print(\"video_list2의 길이:\",len(video_list2))\n",
    "for i in range(len(video_list2)):\n",
    "    url = youtube_url + video_list2[i].find('a',{'id': 'thumbnail'})['href']\n",
    "    park_url.append(url) # 모든 영상의 url을 youtube_url에 붙여서 완전한 url로 만들고 park_url이라는 리스트에 넣어줌"
   ]
  },
  {
   "cell_type": "code",
   "execution_count": null,
   "metadata": {
    "scrolled": true
   },
   "outputs": [],
   "source": [
    "# 현재로서는 썸네일, 유형, 동영상 게시일, 영상길이, 제목, 조회수, 좋아요, 싫어요, 만 크롤링 하면 될듯!\n",
    "\n",
    "# park = pd.DataFrame({'thumbnail': [],\n",
    "#                      'title' : [],\n",
    "#                      'category': [],\n",
    "#                      'view_count': [],\n",
    "#                      'likes_count': [],\n",
    "#                      'dislikes_count':[],\n",
    "#                      'video_length':[],\n",
    "#                      'upload_date': [],\n",
    "#                      }) #총 8개의 정보\n",
    "\n",
    "for i in range(0, 20):\n",
    "    #여기까지는 video페이지에서 수집할 수 있는 썸네일, 제목을 가져온다.\n",
    "    thumbnail = video_list2[i].find('a',{'id':'thumbnail'}).find('img')['src'] # 그 하위의 img라는 태그를 또 찾고 거기서 src가져와라 # 1\n",
    "    title = video_list2[i].find('a',{'id':'video-title'}).text # 2 \n",
    "    \n",
    "    # 여기서부터 영상 클릭해서 들어간 페이지\n",
    "    click_url = park_url[i]\n",
    "    browser.get(click_url)\n",
    "    time.sleep(1.5) # 페이지를 넘어가야하므로 로딩을 기다려야함\n",
    "    # body = browser.find_element_by_tag_name('body')\n",
    "    browser.find_element_by_xpath(\"//*[@id='more']/yt-formatted-string\").click() # 카테고리를 크롤링 하기 위해서 더보기를 눌러주자\n",
    "    time.sleep(3)\n",
    "    html0 = browser.page_source\n",
    "    html = BeautifulSoup(html0, 'html.parser')\n",
    "   \n",
    "    # 여기서는 카테고리, 조회수, 좋아요, 싫어요, 영상길이, 동영상 게시일을 크롤링한다 \n",
    "    category = html.find('div', {'id':'collapsible'}).find('a',{'class':'yt-simple-endpoint'}).text\n",
    "    view_count = html.find('span', {'class': 'view-count'}).text # 4\n",
    "    \n",
    "    # 좋아요와 싫어요는 완전히 똑같은 태그에 들어있다.\n",
    "    # <파이썬 정규 표현식을 지원하는 >re모듈을 사용해보자\n",
    "    likes_count = html.find('yt-formatted-string', {'id':'text', 'class':'style-scope ytd-toggle-button-renderer style-text', # 5\n",
    "    'aria-label':re.compile('좋아요')}).text+'개'\n",
    "    dislikes_count = html.find('yt-formatted-string', {'id':'text', 'class':'style-scope ytd-toggle-button-renderer style-text', # 6\n",
    "    'aria-label':re.compile('싫어요')}).text+'개'\n",
    "    video_length = html.find('span', {'class': 'ytp-time-duration'}).text # 7\n",
    "    upload_date = html.find('div',{'id':'date'}).find('yt-formatted-string').text # 8\n",
    "    \n",
    "    print(i,\".\",\"썸네일\", thumbnail, \"제목:\", title, \"카테고리\",category,\"조회수\",view_count,\"좋아요수\",likes_count, \"싫어요수\",dislikes_count, \"영상길이\", video_length, \"게시일\", upload_date)\n",
    "#     # 크롤링한 정보 저장  \n",
    "#     insert_data = pd.DataFrame({\n",
    "#                         'thumbnail': [thumbnail],\n",
    "#                         'title' : [title],\n",
    "#                         'category': [category],\n",
    "#                         'view_count': [view_count],\n",
    "#                         'likes_count': [likes_count],\n",
    "#                         'dislikes_count':[dislikes_count],\n",
    "#                         'video_length':[video_length],\n",
    "#                         'upload_date': [upload_date],\n",
    "#                         }) \n",
    "\n",
    "#     park = park.append(insert_data)\n",
    "# park.index = range(len(park))"
   ]
  },
  {
   "cell_type": "code",
   "execution_count": null,
   "metadata": {},
   "outputs": [],
   "source": []
  }
 ],
 "metadata": {
  "kernelspec": {
   "display_name": "Python 3",
   "language": "python",
   "name": "python3"
  },
  "language_info": {
   "codemirror_mode": {
    "name": "ipython",
    "version": 3
   },
   "file_extension": ".py",
   "mimetype": "text/x-python",
   "name": "python",
   "nbconvert_exporter": "python",
   "pygments_lexer": "ipython3",
   "version": "3.7.3"
  }
 },
 "nbformat": 4,
 "nbformat_minor": 2
}
