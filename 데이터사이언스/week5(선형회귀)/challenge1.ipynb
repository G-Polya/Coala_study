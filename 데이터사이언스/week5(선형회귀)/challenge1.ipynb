{
 "cells": [
  {
   "cell_type": "code",
   "execution_count": 1,
   "metadata": {},
   "outputs": [],
   "source": [
    "data = [(1,5),(1.5,4),(2,3),\n",
    "        (3,1),(3,2),(4,1),\n",
    "        (5,1.5),(6,2),(6,4),\n",
    "        (7,4),(7,5)]\n",
    "\n"
   ]
  },
  {
   "cell_type": "code",
   "execution_count": 42,
   "metadata": {},
   "outputs": [
    {
     "name": "stdout",
     "output_type": "stream",
     "text": [
      "33.63983406249999\n"
     ]
    }
   ],
   "source": [
    "a = 0.001\n",
    "b = 0.5\n",
    "c = 1.0\n",
    "sum = 0\n",
    "\n",
    "for (x, y) in data:\n",
    "    predict = a*(x**2) + b*x + c\n",
    "    sum += (y-predict) ** 2\n",
    "\n",
    "print(sum)"
   ]
  },
  {
   "cell_type": "code",
   "execution_count": null,
   "metadata": {},
   "outputs": [],
   "source": []
  }
 ],
 "metadata": {
  "kernelspec": {
   "display_name": "Python 3",
   "language": "python",
   "name": "python3"
  },
  "language_info": {
   "codemirror_mode": {
    "name": "ipython",
    "version": 3
   },
   "file_extension": ".py",
   "mimetype": "text/x-python",
   "name": "python",
   "nbconvert_exporter": "python",
   "pygments_lexer": "ipython3",
   "version": "3.7.3"
  }
 },
 "nbformat": 4,
 "nbformat_minor": 2
}
