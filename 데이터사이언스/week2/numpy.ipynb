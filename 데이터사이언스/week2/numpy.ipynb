{
 "cells": [
  {
   "cell_type": "code",
   "execution_count": 2,
   "metadata": {},
   "outputs": [],
   "source": [
    "import numpy as np"
   ]
  },
  {
   "cell_type": "code",
   "execution_count": 9,
   "metadata": {},
   "outputs": [
    {
     "name": "stdout",
     "output_type": "stream",
     "text": [
      "['b' '3']\n"
     ]
    }
   ],
   "source": [
    "a = np.array(['a','b',3,4])\n",
    "print(a[1:3])"
   ]
  },
  {
   "cell_type": "code",
   "execution_count": 10,
   "metadata": {},
   "outputs": [
    {
     "name": "stdout",
     "output_type": "stream",
     "text": [
      "[[2 3]\n",
      " [6 7]]\n",
      "[[ 2  3]\n",
      " [ 6  7]\n",
      " [10 11]]\n",
      "[[ 5  6  7  8]\n",
      " [ 9 10 11 12]]\n",
      "[[ 1  2  3  4]\n",
      " [ 5  6  7  8]\n",
      " [ 9 10 11 12]]\n"
     ]
    }
   ],
   "source": [
    "b = np.array([[1,2,3,4],\n",
    "              [5,6,7,8],\n",
    "              [9,10,11,12]])\n",
    "\n",
    "print(b[0:2,1:3])\n",
    "print(b[:,1:3])\n",
    "\n",
    "print(b[1:,:])\n",
    "\n",
    "print(b[:,:])"
   ]
  },
  {
   "cell_type": "code",
   "execution_count": 30,
   "metadata": {},
   "outputs": [
    {
     "name": "stdout",
     "output_type": "stream",
     "text": [
      "[ 4  8 12]\n",
      "[2 4 6]\n",
      "[ 3 12 27]\n",
      "[3. 3. 3.]\n",
      "[1 2 3]\n",
      "42\n"
     ]
    }
   ],
   "source": [
    "n1 = np.array([3,6,9])\n",
    "n2 = np.array([1,2,3])\n",
    "\n",
    "print(n1+n2)\n",
    "print(n1-n2)\n",
    "print(n1*n2)\n",
    "print(n1/n2)\n",
    "print(n2%n1)\n",
    "print(n1.dot(n2))"
   ]
  },
  {
   "cell_type": "code",
   "execution_count": 6,
   "metadata": {},
   "outputs": [
    {
     "name": "stdout",
     "output_type": "stream",
     "text": [
      "10\n",
      "1\n",
      "5.0\n",
      "4.5\n",
      "9.0\n",
      "3.0\n"
     ]
    }
   ],
   "source": [
    "n3 = np.array([[1,2,3,4],[5,6,9,10]])\n",
    "print(np.max(n3))\n",
    "print(np.min(n3))\n",
    "print(np.mean(n3))\n",
    "print(np.median(n3))\n",
    "print(np.var(n3))\n",
    "print(np.std(n3))\n"
   ]
  },
  {
   "cell_type": "code",
   "execution_count": 32,
   "metadata": {},
   "outputs": [
    {
     "name": "stdout",
     "output_type": "stream",
     "text": [
      "[[ 1  2  3  4]\n",
      " [ 5  6  9 10]]\n",
      "------------------------------\n",
      "[[False False False  True]\n",
      " [ True  True  True  True]]\n",
      "<class 'numpy.ndarray'>\n",
      "------------------------------\n",
      "[ 4  5  6  9 10]\n"
     ]
    }
   ],
   "source": [
    "print(n3)\n",
    "\n",
    "print(\"-\"*30)\n",
    "print(n3 >= 4)\n",
    "print(type(n3>=4))\n",
    "\n",
    "print(\"-\"*30)\n",
    "\n",
    "print(n3[n3>=4])"
   ]
  },
  {
   "cell_type": "code",
   "execution_count": 24,
   "metadata": {},
   "outputs": [
    {
     "data": {
      "text/plain": [
       "김    100\n",
       "나    141\n",
       "박    129\n",
       "이    131\n",
       "dtype: int64"
      ]
     },
     "execution_count": 24,
     "metadata": {},
     "output_type": "execute_result"
    }
   ],
   "source": [
    "import pandas as pd\n",
    "s1 =pd.Series(dict(zip([\"김\",\"나\",\"박\",\"이\"],[100,141,129,131])))\n",
    "s1"
   ]
  },
  {
   "cell_type": "code",
   "execution_count": null,
   "metadata": {},
   "outputs": [],
   "source": []
  }
 ],
 "metadata": {
  "kernelspec": {
   "display_name": "Python 3",
   "language": "python",
   "name": "python3"
  },
  "language_info": {
   "codemirror_mode": {
    "name": "ipython",
    "version": 3
   },
   "file_extension": ".py",
   "mimetype": "text/x-python",
   "name": "python",
   "nbconvert_exporter": "python",
   "pygments_lexer": "ipython3",
   "version": "3.7.3"
  }
 },
 "nbformat": 4,
 "nbformat_minor": 2
}
