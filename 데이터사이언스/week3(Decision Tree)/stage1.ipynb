{
 "cells": [
  {
   "cell_type": "code",
   "execution_count": 1,
   "metadata": {},
   "outputs": [],
   "source": [
    "data = {\n",
    "    \"name\" : [\"고양이\",\"펭귄\",\"닭\",\"타조\",\"참새\"],\n",
    "    \"wing\" : [False,True,True,True,True],\n",
    "    \"weight\" : [\"light\",\"heavy\",\"light\",\"heavy\",\"light\"],\n",
    "    \"density\" : [\"low\",\"high\",\"high\",\"high\",\"high\",\"low\"],\n",
    "    \"fly\" : [False,False,False,False,True]\n",
    "}"
   ]
  },
  {
   "cell_type": "code",
   "execution_count": 2,
   "metadata": {},
   "outputs": [
    {
     "name": "stdout",
     "output_type": "stream",
     "text": [
      "{'name': ['고양이', '펭귄', '닭', '타조', '참새'], 'wing': [False, True, True, True, True], 'weight': ['light', 'heavy', 'light', 'heavy', 'light'], 'density': ['low', 'high', 'high', 'high', 'high', 'low'], 'fly': [False, False, False, False, True]}\n"
     ]
    }
   ],
   "source": [
    "print(data)"
   ]
  },
  {
   "cell_type": "code",
   "execution_count": 3,
   "metadata": {},
   "outputs": [
    {
     "name": "stdout",
     "output_type": "stream",
     "text": [
      "고양이는 날개가 있을까? False\n",
      "닭은 날개가 있을까? True\n"
     ]
    }
   ],
   "source": [
    "print(\"고양이는 날개가 있을까?\",data[\"wing\"][0])\n",
    "print(\"닭은 날개가 있을까?\",data[\"wing\"][2])"
   ]
  },
  {
   "cell_type": "code",
   "execution_count": 4,
   "metadata": {},
   "outputs": [
    {
     "name": "stdout",
     "output_type": "stream",
     "text": [
      "True heavy high False\n"
     ]
    }
   ],
   "source": [
    "print(data[\"wing\"][1],\n",
    "     data[\"weight\"][1],\n",
    "     data[\"density\"][1],\n",
    "     data[\"fly\"][1])"
   ]
  },
  {
   "cell_type": "code",
   "execution_count": 5,
   "metadata": {},
   "outputs": [
    {
     "name": "stdout",
     "output_type": "stream",
     "text": [
      "True heavy high False\n"
     ]
    }
   ],
   "source": [
    "bird_no = 3\n",
    "print(data[\"wing\"][bird_no],\n",
    "     data[\"weight\"][bird_no],\n",
    "     data[\"density\"][bird_no],\n",
    "     data[\"fly\"][bird_no])"
   ]
  },
  {
   "cell_type": "code",
   "execution_count": 11,
   "metadata": {},
   "outputs": [
    {
     "name": "stdout",
     "output_type": "stream",
     "text": [
      "닭  : 날 수 있는지 확인합니다.\n",
      "날 수 없다\n"
     ]
    }
   ],
   "source": [
    "target_index = 2\n",
    "\n",
    "print(data[\"name\"][target_index],\" : 날 수 있는지 확인합니다.\")\n",
    "\n",
    "# 날개 / 몸무게 / 골밀도\n",
    "# 날개 유무\n",
    "\n",
    "if data[\"wing\"][target_index] == True:\n",
    "    #날개있다\n",
    "    if data[\"weight\"][target_index] == \"heavy\":\n",
    "        #몸무게가 무겁다\n",
    "        print(\"날 수 없다\")\n",
    "    else:\n",
    "        if data[\"density\"][target_index] == \"high\":\n",
    "            print(\"날 수 없다\")\n",
    "        else:\n",
    "            print(\"날 수 있다\")\n",
    "else:\n",
    "    print(\"날 수 없다\")"
   ]
  },
  {
   "cell_type": "markdown",
   "metadata": {},
   "source": [
    "# 연속적인 특성을 지닌 데이터의 Decision Tree"
   ]
  },
  {
   "cell_type": "code",
   "execution_count": 12,
   "metadata": {},
   "outputs": [],
   "source": [
    "data = {\n",
    "    \"age\" : [28,22,11,10],\n",
    "    \"fsize\" : [270,235,280,22],\n",
    "    \"gender\" : [\"male\",\"female\",\"male\",\"female\"] \n",
    "}"
   ]
  },
  {
   "cell_type": "code",
   "execution_count": 13,
   "metadata": {},
   "outputs": [
    {
     "name": "stdout",
     "output_type": "stream",
     "text": [
      "1번 회원  : 성별을 확인합니다\n",
      "male\n"
     ]
    }
   ],
   "source": [
    "target_index = 0\n",
    "target_names = [\"1번 회원\",\"2번 회원\",\"3번 회원\",\"4번 회원\"]\n",
    "\n",
    "print(target_names[target_index], \" : 성별을 확인합니다\")\n",
    "if data[\"age\"][target_index] <= 20:\n",
    "    if data[\"fsize\"][target_index] <= 250:\n",
    "        print(\"female\")\n",
    "    else:\n",
    "        print(\"male\")\n",
    "else:\n",
    "    if data[\"fsize\"][target_index] >= 260:\n",
    "        print(\"male\")\n",
    "    else:\n",
    "        print(\"female\")"
   ]
  },
  {
   "cell_type": "code",
   "execution_count": null,
   "metadata": {},
   "outputs": [],
   "source": []
  }
 ],
 "metadata": {
  "kernelspec": {
   "display_name": "Python 3",
   "language": "python",
   "name": "python3"
  },
  "language_info": {
   "codemirror_mode": {
    "name": "ipython",
    "version": 3
   },
   "file_extension": ".py",
   "mimetype": "text/x-python",
   "name": "python",
   "nbconvert_exporter": "python",
   "pygments_lexer": "ipython3",
   "version": "3.7.3"
  }
 },
 "nbformat": 4,
 "nbformat_minor": 2
}
