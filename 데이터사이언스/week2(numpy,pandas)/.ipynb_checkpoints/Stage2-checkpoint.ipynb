{
 "cells": [
  {
   "cell_type": "code",
   "execution_count": 1,
   "metadata": {},
   "outputs": [],
   "source": [
    "a = 3"
   ]
  },
  {
   "cell_type": "code",
   "execution_count": 2,
   "metadata": {},
   "outputs": [
    {
     "name": "stdout",
     "output_type": "stream",
     "text": [
      "3\n"
     ]
    }
   ],
   "source": [
    "print(a)"
   ]
  },
  {
   "cell_type": "code",
   "execution_count": 3,
   "metadata": {},
   "outputs": [
    {
     "name": "stdout",
     "output_type": "stream",
     "text": [
      "1 2 -1231 123\n"
     ]
    }
   ],
   "source": [
    "a = 1\n",
    "b = 2\n",
    "c = -1231\n",
    "d = 123\n",
    "print(a,b,c,d)"
   ]
  },
  {
   "cell_type": "code",
   "execution_count": 4,
   "metadata": {},
   "outputs": [
    {
     "name": "stdout",
     "output_type": "stream",
     "text": [
      "444\n"
     ]
    }
   ],
   "source": [
    "add = 123 + 321\n",
    "print(add)"
   ]
  },
  {
   "cell_type": "code",
   "execution_count": 8,
   "metadata": {},
   "outputs": [
    {
     "name": "stdout",
     "output_type": "stream",
     "text": [
      "13\n"
     ]
    }
   ],
   "source": [
    "res = 3 + (2*5)\n",
    "print(res)"
   ]
  },
  {
   "cell_type": "code",
   "execution_count": 9,
   "metadata": {},
   "outputs": [
    {
     "name": "stdout",
     "output_type": "stream",
     "text": [
      "4.333333333333333\n"
     ]
    }
   ],
   "source": [
    "res = res/3\n",
    "print(res)"
   ]
  },
  {
   "cell_type": "code",
   "execution_count": 10,
   "metadata": {},
   "outputs": [
    {
     "name": "stdout",
     "output_type": "stream",
     "text": [
      "-1228\n"
     ]
    }
   ],
   "source": [
    "print(1+2-1231)"
   ]
  },
  {
   "cell_type": "code",
   "execution_count": 11,
   "metadata": {},
   "outputs": [
    {
     "name": "stdout",
     "output_type": "stream",
     "text": [
      "-1228\n"
     ]
    }
   ],
   "source": [
    "print(a+b+c)\n"
   ]
  },
  {
   "cell_type": "markdown",
   "metadata": {},
   "source": [
    "# 변수 문자열 사용법"
   ]
  },
  {
   "cell_type": "code",
   "execution_count": 12,
   "metadata": {},
   "outputs": [
    {
     "name": "stdout",
     "output_type": "stream",
     "text": [
      "Hello world!\n",
      "안녕 세상\n"
     ]
    }
   ],
   "source": [
    "a = \"Hello world!\"\n",
    "print(a)\n",
    "\n",
    "b = \"안녕 세상\"\n",
    "print(b)"
   ]
  },
  {
   "cell_type": "code",
   "execution_count": 13,
   "metadata": {},
   "outputs": [
    {
     "name": "stdout",
     "output_type": "stream",
     "text": [
      "Hi\n"
     ]
    }
   ],
   "source": [
    "a = \"Hi\"\n",
    "print(a)"
   ]
  },
  {
   "cell_type": "code",
   "execution_count": 14,
   "metadata": {},
   "outputs": [
    {
     "name": "stdout",
     "output_type": "stream",
     "text": [
      "Hi\n"
     ]
    }
   ],
   "source": [
    "b = a\n",
    "print(b)"
   ]
  },
  {
   "cell_type": "code",
   "execution_count": 15,
   "metadata": {},
   "outputs": [
    {
     "name": "stdout",
     "output_type": "stream",
     "text": [
      "원하는\n",
      "내용물\n",
      "편하게\n",
      "\n",
      "여러 줄로 입력하기\n",
      "\n"
     ]
    }
   ],
   "source": [
    "longName = '''원하는\n",
    "내용물\n",
    "편하게\n",
    "\n",
    "여러 줄로 입력하기\n",
    "'''\n",
    "print(longName)"
   ]
  },
  {
   "cell_type": "markdown",
   "metadata": {},
   "source": [
    "# 변수 활용 퀴즈"
   ]
  },
  {
   "cell_type": "code",
   "execution_count": 16,
   "metadata": {},
   "outputs": [
    {
     "name": "stdout",
     "output_type": "stream",
     "text": [
      "my name is Django\n"
     ]
    }
   ],
   "source": [
    "a = \"my name is \"\n",
    "b = \"Django\"\n",
    "print(a + b)\n"
   ]
  },
  {
   "cell_type": "code",
   "execution_count": 18,
   "metadata": {},
   "outputs": [
    {
     "name": "stdout",
     "output_type": "stream",
     "text": [
      "12344321 <class 'str'>\n",
      "12344321 <class 'int'>\n"
     ]
    }
   ],
   "source": [
    "num1 =\"1234\"\n",
    "num2 = \"4321\"\n",
    "print(num1+num2,type(num1+num2))\n",
    "\n",
    "print(int(num1+num2), type(int(num1+num2)))"
   ]
  },
  {
   "cell_type": "code",
   "execution_count": 19,
   "metadata": {},
   "outputs": [
    {
     "name": "stdout",
     "output_type": "stream",
     "text": [
      "P\n"
     ]
    }
   ],
   "source": [
    "K = \"P\"\n",
    "P =123\n",
    "print(K)"
   ]
  },
  {
   "cell_type": "markdown",
   "metadata": {},
   "source": [
    "# if 사용하기\n"
   ]
  },
  {
   "cell_type": "code",
   "execution_count": 23,
   "metadata": {},
   "outputs": [
    {
     "name": "stdout",
     "output_type": "stream",
     "text": [
      "중학생이 아니므로.. 할인해드릴 수 없어요.\n"
     ]
    }
   ],
   "source": [
    "age = 17\n",
    "if age > 14 and age <= 16:\n",
    "    print(\"중학생입니다\")\n",
    "else:\n",
    "    print(\"중학생이 아니므로.. 할인해드릴 수 없어요.\")\n"
   ]
  },
  {
   "cell_type": "code",
   "execution_count": 28,
   "metadata": {},
   "outputs": [
    {
     "name": "stdout",
     "output_type": "stream",
     "text": [
      "가\n"
     ]
    }
   ],
   "source": [
    "score = 55\n",
    "\n",
    "# 90점 이상은 수\n",
    "if score >= 90:\n",
    "    print(\"수\")\n",
    "if score >= 80 and score < 90:\n",
    "    print(\"우\")\n",
    "if score >= 70 and score < 80:\n",
    "    print(\"미\")\n",
    "if score >= 60 and score < 70:\n",
    "    print(\"양\")\n",
    "if score < 60:\n",
    "    print(\"가\")\n",
    "    \n",
    "    "
   ]
  },
  {
   "cell_type": "code",
   "execution_count": 34,
   "metadata": {},
   "outputs": [
    {
     "name": "stdout",
     "output_type": "stream",
     "text": [
      "합격\n"
     ]
    }
   ],
   "source": [
    "age = 19\n",
    "score = 71\n",
    "\n",
    "if age >= 20 and score >= 80:\n",
    "    print(\"합격\")\n",
    "elif age < 20 and score >= 70:\n",
    "    print(\"합격\")\n",
    "else:\n",
    "    print(\"불합격\")"
   ]
  },
  {
   "cell_type": "markdown",
   "metadata": {},
   "source": [
    "# 리스트"
   ]
  },
  {
   "cell_type": "code",
   "execution_count": 8,
   "metadata": {},
   "outputs": [
    {
     "name": "stdout",
     "output_type": "stream",
     "text": [
      "박청용\n",
      "650101\n",
      "1100\n"
     ]
    }
   ],
   "source": [
    "myname = \"박청용\"\n",
    "birth = 650101\n",
    "addr = \"서울 마포 공덕\"\n",
    "\n",
    "person_info = [myname,birth,addr,\"남자\",1100]\n",
    "print(person_info[0])\n",
    "print(person_info[1])\n",
    "print(person_info[4])\n"
   ]
  },
  {
   "cell_type": "markdown",
   "metadata": {},
   "source": [
    "# 딕셔너리"
   ]
  },
  {
   "cell_type": "code",
   "execution_count": 14,
   "metadata": {},
   "outputs": [
    {
     "name": "stdout",
     "output_type": "stream",
     "text": [
      "남자\n",
      "박청용\n",
      "1100\n"
     ]
    }
   ],
   "source": [
    "myname = \"박청용\"\n",
    "birth = 650101\n",
    "addr = \"서울 마포 공덕\"\n",
    "\n",
    "user_info ={\n",
    "    \"name\" : myname,\n",
    "    \"birth\" : birth,\n",
    "    \"addr\" : addr,\n",
    "    \"gender\" : \"남자\",\n",
    "    \"point\" : 1100}\n",
    "print(user_info[\"gender\"])\n",
    "print(user_info[\"name\"])\n",
    "print(user_info[\"point\"])"
   ]
  },
  {
   "cell_type": "code",
   "execution_count": 24,
   "metadata": {},
   "outputs": [
    {
     "name": "stdout",
     "output_type": "stream",
     "text": [
      "['박청용', 650101, '서울 마포 공덕', '남자', 1100]\n",
      "맨체스터\n",
      "서울 마포 공덕\n"
     ]
    }
   ],
   "source": [
    "person_info2 = [\"박지성\",810225,\"맨체스터\",\"남자\",13000]\n",
    "\n",
    "user_list = [person_info,person_info2, user_info]\n",
    "print(user_list[0])\n",
    "print(user_list[1][2])\n",
    "print(user_list[2][\"addr\"])\n",
    "\n"
   ]
  },
  {
   "cell_type": "markdown",
   "metadata": {},
   "source": [
    "# 파일 읽기, 쓰기\n",
    "\n",
    "## 쓰기"
   ]
  },
  {
   "cell_type": "code",
   "execution_count": 25,
   "metadata": {},
   "outputs": [],
   "source": [
    "f = open(\"test.csv\",\"w\")\n",
    "f.write(\"이름,주소\\n\")\n",
    "f.write(\"최도근,마포 공덕\\n\")\n",
    "f.write(\"이현영,서대문 연희\\n\")\n",
    "f.close()"
   ]
  },
  {
   "cell_type": "markdown",
   "metadata": {},
   "source": [
    "## 읽기"
   ]
  },
  {
   "cell_type": "code",
   "execution_count": 26,
   "metadata": {},
   "outputs": [
    {
     "name": "stdout",
     "output_type": "stream",
     "text": [
      "이름,주소\n",
      "\n",
      "최도근, 마포 공덕\n",
      "\n",
      "이현영, 서대문 연희\n",
      "\n"
     ]
    }
   ],
   "source": [
    "f = open(\"test.csv\",\"r\")\n",
    "line = f.readline()\n",
    "print(line)\n",
    "line = f.readline()\n",
    "print(line)\n",
    "line = f.readline()\n",
    "print(line)\n",
    "f.close()"
   ]
  },
  {
   "cell_type": "code",
   "execution_count": null,
   "metadata": {},
   "outputs": [],
   "source": []
  }
 ],
 "metadata": {
  "kernelspec": {
   "display_name": "Python 3",
   "language": "python",
   "name": "python3"
  },
  "language_info": {
   "codemirror_mode": {
    "name": "ipython",
    "version": 3
   },
   "file_extension": ".py",
   "mimetype": "text/x-python",
   "name": "python",
   "nbconvert_exporter": "python",
   "pygments_lexer": "ipython3",
   "version": "3.7.3"
  }
 },
 "nbformat": 4,
 "nbformat_minor": 2
}
