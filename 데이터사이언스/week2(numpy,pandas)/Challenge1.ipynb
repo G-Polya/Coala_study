{
 "cells": [
  {
   "cell_type": "code",
   "execution_count": 4,
   "metadata": {},
   "outputs": [
    {
     "name": "stdout",
     "output_type": "stream",
     "text": [
      "1단계 : 전체 출력하기\n",
      "[{'name': '박지성', 'phone': '01040281234'}, {'name': '이청용', 'phone': '01012344321'}, {'name': '손흥민', 'phone': '01007070202'}]\n",
      "----------------------------\n",
      "2단계 : 이청용 정보만 출력하기\n",
      "{'name': '이청용', 'phone': '01012344321'}\n"
     ]
    }
   ],
   "source": [
    "phonebook = [\n",
    "    { \"name\" : \"박지성\", \"phone\" : \"01040281234\"},\n",
    "    {\"name\" : \"이청용\",\"phone\" : \"01012344321\"},\n",
    "    {\"name\" : \"손흥민\", \"phone\" : \"01007070202\"}\n",
    "]\n",
    "print(\"1단계 : 전체 출력하기\")\n",
    "print(phonebook)\n",
    "print(\"----------------------------\")\n",
    "print(\"2단계 : 이청용 정보만 출력하기\")\n",
    "print(phonebook[1])"
   ]
  },
  {
   "cell_type": "code",
   "execution_count": null,
   "metadata": {},
   "outputs": [],
   "source": []
  }
 ],
 "metadata": {
  "kernelspec": {
   "display_name": "Python 3",
   "language": "python",
   "name": "python3"
  },
  "language_info": {
   "codemirror_mode": {
    "name": "ipython",
    "version": 3
   },
   "file_extension": ".py",
   "mimetype": "text/x-python",
   "name": "python",
   "nbconvert_exporter": "python",
   "pygments_lexer": "ipython3",
   "version": "3.7.3"
  }
 },
 "nbformat": 4,
 "nbformat_minor": 2
}
